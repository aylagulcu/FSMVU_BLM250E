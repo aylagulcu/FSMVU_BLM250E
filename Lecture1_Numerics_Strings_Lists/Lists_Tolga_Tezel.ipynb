{
 "cells": [
  {
   "cell_type": "code",
   "execution_count": null,
   "metadata": {
    "collapsed": false
   },
   "outputs": [],
   "source": [
    "Lists , Pythondaki veri tiplerinden biridir."
   ]
  },
  {
   "cell_type": "markdown",
   "metadata": {
    "collapsed": true
   },
   "source": [
    "Listeleri şöyle tanımlıyoruz:"
   ]
  },
  {
   "cell_type": "code",
   "execution_count": null,
   "metadata": {
    "collapsed": false
   },
   "outputs": [],
   "source": [
    "liste1 = [\"fsmvu\", \"bilgisayar\" , \" mühendisliği\"]\n",
    "liste2 = [ 1,9,21,16,11,57]\n",
    "liste3 = [\"Ali\",\"Aslı\",\"Hakan\",\"19\",25,3.7,\"\"]\n",
    "'Burada dikkat etmemiz gereken şey string dizilerini tanımlarken kelimeyi'\n",
    "'çift ya da  tek tırnak içine almak yeterliydi ama sayıları yazarken  tırnak kullanmıyoruz'\n",
    "'Eğer kullanırsak int olmaktan çıkar . Listelerde birden fazla veri tipini kullanabileceğimizi örneklemiş olduk'\n"
   ]
  },
  {
   "cell_type": "code",
   "execution_count": 57,
   "metadata": {
    "collapsed": false
   },
   "outputs": [
    {
     "data": {
      "text/plain": [
       "list"
      ]
     },
     "execution_count": 57,
     "metadata": {},
     "output_type": "execute_result"
    }
   ],
   "source": [
    "a=[1,2,3,4,5,6]\n",
    "'Peki a nın bir liste oldugunu biliyoruz ama bilmediğimizi varsayalım bunu nasıl sorgulayacağız ?'\n",
    "'bunun için type komutunu kullanıyoruz.Eğer kullandığımızda bize list sonucunu veriyorsa bu bir listedir '\n",
    "type(a)"
   ]
  },
  {
   "cell_type": "code",
   "execution_count": 66,
   "metadata": {
    "collapsed": false
   },
   "outputs": [
    {
     "name": "stdout",
     "output_type": "stream",
     "text": [
      "Ali adlı öğenin veri tipi: <class 'str'>\n",
      "Aslı adlı öğenin veri tipi: <class 'str'>\n",
      "Hakan adlı öğenin veri tipi: <class 'str'>\n",
      "19 adlı öğenin veri tipi: <class 'str'>\n",
      "25 adlı öğenin veri tipi: <class 'int'>\n",
      "3.7 adlı öğenin veri tipi: <class 'float'>\n",
      " adlı öğenin veri tipi: <class 'str'>\n"
     ]
    }
   ],
   "source": [
    "'Ayrıca bir liste içindeki elemanların da tiplerini sorgulayabiliriz.Hepsini topluca sorgulamak için for döngüsünü kullanırız'\n",
    "for öğe in liste3:\n",
    "    print(\"{} adlı öğenin veri tipi: {}\".format(öğe, type(öğe)))"
   ]
  },
  {
   "cell_type": "code",
   "execution_count": null,
   "metadata": {
    "collapsed": false
   },
   "outputs": [],
   "source": [
    "Listedeki verilere erişmek ve yazdırmak"
   ]
  },
  {
   "cell_type": "code",
   "execution_count": null,
   "metadata": {
    "collapsed": false
   },
   "outputs": [],
   "source": [
    "Java ve C programlama dillerinde olduğu gibi elemanların indexi 0'dan başlar. \n",
    "Örneğin: Liste2[0] dediğimizde bize 1 sonucunu verir.\n",
    "Liste3[2] dediğimizde ise 'Hakan' sonucuna ulaşırız.\n",
    "Şimdi yazdırma işlemlerine bakalım"
   ]
  },
  {
   "cell_type": "code",
   "execution_count": 1,
   "metadata": {
    "collapsed": false,
    "scrolled": false
   },
   "outputs": [
    {
     "name": "stdout",
     "output_type": "stream",
     "text": [
      "1.Liste ['fsmvu', 'bilgisayar', ' mühendisliği', '']\n",
      "2.Liste [1, 9, 21, 16, 11, 57]\n",
      "3.Liste ['Ali', 'Aslı', 'Hakan', 19, 25, 3.7]\n",
      "1.Listenin 2. Elemanı bilgisayar\n",
      "3.Listenin 1. Elemanı Ali\n"
     ]
    },
    {
     "data": {
      "text/plain": [
       "list"
      ]
     },
     "execution_count": 1,
     "metadata": {},
     "output_type": "execute_result"
    }
   ],
   "source": [
    "liste1 = [\"fsmvu\", \"bilgisayar\" , \" mühendisliği\",\"\"]\n",
    "liste2 = [ 1,9,21,16,11,57]\n",
    "liste3= [\"Ali\",\"Aslı\",\"Hakan\",19,25,3.7]\n",
    "print(\"1.Liste\",liste1) \n",
    "print(\"2.Liste\",liste2)\n",
    "print(\"3.Liste\",liste3)\n",
    "print(\"1.Listenin 2. Elemanı\",liste1[1])\n",
    "print(\"3.Listenin 1. Elemanı\",liste3[0])\n",
    "type(liste1)"
   ]
  },
  {
   "cell_type": "code",
   "execution_count": null,
   "metadata": {
    "collapsed": false
   },
   "outputs": [],
   "source": []
  },
  {
   "cell_type": "code",
   "execution_count": null,
   "metadata": {
    "collapsed": false
   },
   "outputs": [],
   "source": [
    "Listelerde değer güncelleme/değiştirme\n",
    "Bazen değerleri yanlış girebiliriz bunu en kısa yoldan direk tanımladığımız yerde düzeltebiliriz ancak\n",
    "gelin bir de uzun yoldan nasıl yapılır ona bakalım"
   ]
  },
  {
   "cell_type": "code",
   "execution_count": 19,
   "metadata": {
    "collapsed": false
   },
   "outputs": [
    {
     "name": "stdout",
     "output_type": "stream",
     "text": [
      "Listedeki 2. değer Mehmet\n",
      "Listedeki 2. değer Ceren\n"
     ]
    }
   ],
   "source": [
    "liste1=[\"Tolga\",\"Mehmet\",122]\n",
    "print(\"Listedeki 2. değer\",liste1[1])\n",
    "liste1[1] = \"Ceren\"\n",
    "print(\"Listedeki 2. değer\",liste1[1])"
   ]
  },
  {
   "cell_type": "code",
   "execution_count": 20,
   "metadata": {
    "collapsed": false
   },
   "outputs": [
    {
     "name": "stdout",
     "output_type": "stream",
     "text": [
      "Ceren\n",
      "Ali\n"
     ]
    }
   ],
   "source": [
    "'ya da listelerdeki değerleri birbirine eşitleyebiliriz'\n",
    "print(liste1[1])\n",
    "liste1[1] = liste3[0]  \n",
    "'liste1[1] eşitlemeden önce sezer değerini tutuyor'\n",
    "print(liste1[1])\n"
   ]
  },
  {
   "cell_type": "code",
   "execution_count": 5,
   "metadata": {
    "collapsed": false,
    "scrolled": true
   },
   "outputs": [
    {
     "name": "stdout",
     "output_type": "stream",
     "text": [
      "[]\n"
     ]
    }
   ],
   "source": [
    "'Listeden Eleman Silme'\n",
    "'Eleman silmek için del komut kullanıyoruz,eğer bütün elemanları silmek istersek clear komutunu kullanırız'\n",
    "liste5 = ['tolga','ahmet','veli']\n",
    "\n",
    "liste5.clear()\n",
    "print(liste5)"
   ]
  },
  {
   "cell_type": "code",
   "execution_count": 6,
   "metadata": {
    "collapsed": false
   },
   "outputs": [
    {
     "name": "stdout",
     "output_type": "stream",
     "text": [
      "6\n"
     ]
    }
   ],
   "source": [
    "'Listenin uzunluğunu bulma'\n",
    "'Bir listesin uzunluğunu bulmak için nasıl ki Javada Length metodu varsa'\n",
    "'Burada da len metodu var'\n",
    "liste8=[\"ad\",\"bad\",\"tad\",2,3,5]\n",
    "print(len(liste8))\n",
    "\n"
   ]
  },
  {
   "cell_type": "code",
   "execution_count": 7,
   "metadata": {
    "collapsed": false
   },
   "outputs": [
    {
     "name": "stdout",
     "output_type": "stream",
     "text": [
      "['a', 'b', 'c', 1, 4, 7]\n"
     ]
    }
   ],
   "source": [
    "'Birden Fazla Listeyi birleştirme' \n",
    "'Pythonda birden fazla listeyi birleştirmek için + işareti kullanılır'\n",
    "[1,2,3] + [4,5,6]\n",
    "'ya da liste olarak düsünürsek'\n",
    "lis1=[\"a\",\"b\",\"c\"] \n",
    "lis2=[1,4,7]\n",
    "print(lis1 + lis2) \n",
    "\n",
    "#print(lis2+lis1) #Peki böyle lis1 ve lis2 nin yerini değiştirdiğimiz zaman sonuç değişecek mi yoksa  hafızada \n",
    "#kayıtlı olduğu gibi kalıp aynı sonucu mu verecek?"
   ]
  },
  {
   "cell_type": "code",
   "execution_count": 10,
   "metadata": {
    "collapsed": false
   },
   "outputs": [
    {
     "name": "stdout",
     "output_type": "stream",
     "text": [
      "['a', 'b', 'c']\n",
      "['a', 'b', 'c', 1, 4, 7]\n"
     ]
    }
   ],
   "source": [
    "print(lis1)\n",
    "lis1=lis1+lis2\n",
    "print(lis1)"
   ]
  },
  {
   "cell_type": "code",
   "execution_count": 24,
   "metadata": {
    "collapsed": false
   },
   "outputs": [
    {
     "name": "stdout",
     "output_type": "stream",
     "text": [
      "[1, 4, 7]\n",
      "True\n",
      "False\n"
     ]
    }
   ],
   "source": [
    "'Bir elemanın bir listede olup olmadığını sorgulama'\n",
    "'bu işlem için in komutu kullanıyoruz'\n",
    "\n",
    "\n",
    "print(lis2)\n",
    "print(4 in lis2)\n",
    "\n",
    "print(11 in lis2)"
   ]
  },
  {
   "cell_type": "code",
   "execution_count": 12,
   "metadata": {
    "collapsed": false
   },
   "outputs": [
    {
     "name": "stdout",
     "output_type": "stream",
     "text": [
      "['A', 'B', 'C', 'A', 'B', 'C', 'A', 'B', 'C', 'A', 'B', 'C']\n"
     ]
    }
   ],
   "source": [
    "'Listelerde tekrarlanma'\n",
    "'Listemizin elemanlarını tekrar ettirmek istiyorsak * sembolü kullanılır'\n",
    "tekrarListe= [\"A\",\"B\",\"C\"]\n",
    "tekrarListe = tekrarListe*4\n",
    "print(tekrarListe)"
   ]
  },
  {
   "cell_type": "code",
   "execution_count": 14,
   "metadata": {
    "collapsed": false
   },
   "outputs": [
    {
     "name": "stdout",
     "output_type": "stream",
     "text": [
      "4 \n",
      "8 \n",
      "12 \n",
      "16 \n",
      "20 \n",
      "24 \n",
      "28 \n",
      "32 \n",
      "[1, 2, 3, 4, 5, 6, 7, 8]\n"
     ]
    }
   ],
   "source": [
    "'Liste elemanlarını çarpma,bölme,toplama'\n",
    "'Liste elemanlarımızı belli bir sayıyla işleme sokmak için 2 yol var'\n",
    "'1.Yol --> tüm elemanları tek tek işleme sokmak örnek : liste1[0] *=4  dersek'\n",
    "'liste1[0] deki elemanı 4 ile çarpıp tekrar kendisine eşitlemiş oluruz'\n",
    "'ancak bunu 100 elemanlı bir liste yaptığımız düşünürsek 100 kere yazmak'\n",
    "'yeterince vakit kaybı olacaktır 2. yolumuz ise daha pratik'\n",
    "'2.yol --> for döngüsü yardımıyla tüm elemanlara işlem yapmak'\n",
    "d=[1,2,3,4,5,6,7,8]\n",
    "for öğe in d:\n",
    "     print(\"{} \".format(öğe*4))\n",
    "        \n",
    "        \n",
    "print(d)"
   ]
  },
  {
   "cell_type": "code",
   "execution_count": 16,
   "metadata": {
    "collapsed": false
   },
   "outputs": [
    {
     "name": "stdout",
     "output_type": "stream",
     "text": [
      "[2, '4', 88]\n",
      "['***']\n",
      "[]\n"
     ]
    }
   ],
   "source": [
    "'Dizilerde İndexleme işlemi'\n",
    "'Diziler her zaman soldan başlamazlar isteğimize göre sağdan da başlatabiliriz'\n",
    "Liste = [\"1\",2,\"4\",88,\"tolga\",\"ahmet\",\"***\"]\n",
    "\n",
    "print(Liste[1:4])\n",
    "print(Liste[-1:])\n",
    "print(Liste[-1:-1])print(Liste)\n",
    "print(Liste[3])\n",
    "print(Liste[-4])\n",
    "print()\n",
    "'Bir elemandan önceki ve sonraki elemanları yazdırmak'\n",
    "'Bunun için : kullanıyoruz eğer : indexden önce kullanırsak indexin kendisini almıyor'\n",
    "print(Liste[:4])\n",
    "print(Liste[4:])"
   ]
  },
  {
   "cell_type": "code",
   "execution_count": null,
   "metadata": {
    "collapsed": false
   },
   "outputs": [],
   "source": [
    "'İşimize yarayabilecek bazı liste fonksiyonları'"
   ]
  },
  {
   "cell_type": "code",
   "execution_count": 18,
   "metadata": {
    "collapsed": false
   },
   "outputs": [
    {
     "name": "stdout",
     "output_type": "stream",
     "text": [
      "33\n",
      "1\n",
      "kalem\n"
     ]
    }
   ],
   "source": [
    "a = [1,2,3,4,5,6,7]\n",
    "b= [4,6,8,9,0,33,22]\n",
    "c= [\"Kalem\",\"biber\",\"Elma\",\"armut\",\"kalem\"]\n",
    "print(max(b))\n",
    "print(min(a))\n",
    "print(max(c))\n"
   ]
  },
  {
   "cell_type": "code",
   "execution_count": 23,
   "metadata": {
    "collapsed": false
   },
   "outputs": [
    {
     "data": {
      "text/plain": [
       "['biber', 'elma', 'armut']"
      ]
     },
     "execution_count": 23,
     "metadata": {},
     "output_type": "execute_result"
    }
   ],
   "source": [
    "\"Sıradaki komutumuz ise 2 listeyi birbiriyle karşılaştırıp ortak elemanları buluyor\"\n",
    "a = [1,2,3,4,5,6,7]\n",
    "b= [4,6,8,9,0,33,22]\n",
    "c= [\"kalem\",\"biber\",\"elma\",\"armut\"]\n",
    "d = [\"Kalem\",\"biber\",\"elma\",'armut']\n",
    "\n",
    "list(set(d).intersection(set(c)))\n",
    "#list(set(a).intersection(set(b)))"
   ]
  },
  {
   "cell_type": "code",
   "execution_count": 56,
   "metadata": {
    "collapsed": false
   },
   "outputs": [
    {
     "name": "stdout",
     "output_type": "stream",
     "text": [
      "['tolga', 786, 'ahmet', 123457]\n"
     ]
    },
    {
     "data": {
      "text/plain": [
       "(1, 2, 3, 4)"
      ]
     },
     "execution_count": 56,
     "metadata": {},
     "output_type": "execute_result"
    }
   ],
   "source": [
    "'Tupleyi liste çevirme'\n",
    "ornekTuple = ('tolga',786,'ahmet',123457)\n",
    "ornekListe = list(ornekTuple)\n",
    "print(ornekListe)\n",
    "\n",
    "'Listi Tupleye çevirme'\n",
    "a=[1,2,3,4]\n",
    "tuple(a)\n"
   ]
  },
  {
   "cell_type": "code",
   "execution_count": 31,
   "metadata": {
    "collapsed": false
   },
   "outputs": [
    {
     "name": "stdout",
     "output_type": "stream",
     "text": [
      "4\n",
      "[15, 23, 12, 15, 15, 23, 45, 64, 15, 33, 1997]\n"
     ]
    }
   ],
   "source": [
    "'Bir kelimenin ya da sayının listenin içinde kaç defa olduğunu sorgulama'\n",
    "liste=[15,23,12,15,15,23,45,64,15]\n",
    "print(liste.count(15))\n",
    "'Bir kelimenin ya da sayıyı listeye ekleme'\n",
    "liste.append(33)\n",
    "liste.append(1997)\n",
    "print(liste)\n"
   ]
  },
  {
   "cell_type": "code",
   "execution_count": 32,
   "metadata": {
    "collapsed": false
   },
   "outputs": [
    {
     "name": "stdout",
     "output_type": "stream",
     "text": [
      "[15, 23, 12, 15, 15, 23, 45, 64, 15, 33, 1997, 'ahmet', 'mehmet', 12666]\n"
     ]
    }
   ],
   "source": [
    "'Bir listeyi başka bir listeye ekleme'\n",
    "liste1=['ahmet', 'mehmet' , 12666]\n",
    "liste.extend(liste1)\n",
    "print(liste)"
   ]
  },
  {
   "cell_type": "code",
   "execution_count": 24,
   "metadata": {
    "collapsed": false
   },
   "outputs": [
    {
     "name": "stdout",
     "output_type": "stream",
     "text": [
      "4\n",
      "1\n"
     ]
    }
   ],
   "source": [
    "'Bir kelimenin listedeki index numarasını bulma,Eğer birden fazla varsa'\n",
    "'ilk bulunan index değerini döndürür'\n",
    "liste3=[22,33,15,44,\"acc\",55,15,15]\n",
    "print(liste3.index(\"acc\"))\n",
    "print(liste3.index(33))"
   ]
  },
  {
   "cell_type": "code",
   "execution_count": 34,
   "metadata": {
    "collapsed": false
   },
   "outputs": [
    {
     "name": "stdout",
     "output_type": "stream",
     "text": [
      "[13, 22, 44, 15, 'Tolga', 7, 23, 5]\n"
     ]
    }
   ],
   "source": [
    "'Listede belirtilen yere yeni veri eklemek'\n",
    "liste5=[13,22,44,15,7,23,5]\n",
    "liste5.insert(4,'Tolga')\n",
    "print(liste5)"
   ]
  },
  {
   "cell_type": "code",
   "execution_count": 30,
   "metadata": {
    "collapsed": false
   },
   "outputs": [
    {
     "name": "stdout",
     "output_type": "stream",
     "text": [
      "[1, 3, 4, 6, 87, 3, 3, 9, 0]\n"
     ]
    }
   ],
   "source": [
    "'Listeden veri silmek,Eğer birden fazla aynı veri varsa sadece ilki silinir'\n",
    "liste7=[1,3,4,6,87,3,3,\"bilal\",9,0]\n",
    "liste7.remove(liste7[7])\n",
    "print(liste7)\n"
   ]
  },
  {
   "cell_type": "code",
   "execution_count": 35,
   "metadata": {
    "collapsed": false
   },
   "outputs": [
    {
     "name": "stdout",
     "output_type": "stream",
     "text": [
      "[1, 4, 5, 6, 7]\n",
      "4\n",
      "[1, 5, 6, 7]\n"
     ]
    }
   ],
   "source": [
    "'Listedeki verilerden pop() içine ne yazarsak o itemi listeden siler'\n",
    "liste8=[1,2,4,5,6,7]\n",
    "liste8.pop(1) # eğer bir kere daha aynı komutu uygularsak 1.index silinecek ve onun yerine gelen indexde silenecek\n",
    "print(liste8)\n",
    "print(liste8.pop(1))\n",
    "print(liste8)\n"
   ]
  },
  {
   "cell_type": "code",
   "execution_count": 37,
   "metadata": {
    "collapsed": false
   },
   "outputs": [
    {
     "name": "stdout",
     "output_type": "stream",
     "text": [
      "['ss', 5, 4, 'tolga', 3, 2, 1]\n"
     ]
    }
   ],
   "source": [
    "'Listeyi tersine çevirmek'\n",
    "liste11=[1,2,3,'tolga',4,5,'ss']\n",
    "liste11.reverse()\n",
    "print(liste11)"
   ]
  },
  {
   "cell_type": "code",
   "execution_count": 37,
   "metadata": {
    "collapsed": false
   },
   "outputs": [
    {
     "name": "stdout",
     "output_type": "stream",
     "text": [
      "[88, 81, 56, 34, 12, 7]\n",
      "['al', 'def', 'qwe', 'tss']\n"
     ]
    }
   ],
   "source": [
    "'Liste sıralama'\n",
    "'Sıralama için '\n",
    "liste12=[12,34,56,7,88,81]\n",
    "liste12.sort(reverse=True)\n",
    "print(liste12)\n",
    "liste13=['def','tss','al','qwe']\n",
    "liste13.sort()\n",
    "print(liste13)\n"
   ]
  },
  {
   "cell_type": "code",
   "execution_count": 41,
   "metadata": {
    "collapsed": false
   },
   "outputs": [
    {
     "name": "stdout",
     "output_type": "stream",
     "text": [
      "[1, 2, 3, 4, 5, 6]\n"
     ]
    }
   ],
   "source": [
    "'Liste kopyalayıp başka bir listeye eşitleme '\n",
    "eskiListe=[1,2,3,4,5,6]\n",
    "#yeniListe = eskiListe\n",
    "yeniListe=eskiListe.copy()\n",
    "#yeniListe=eskiListe[:]\n",
    "#yeniListe=list(eskiListe)\n",
    "yeniListe[0]=25\n",
    "print(eskiListe)\n",
    "\n"
   ]
  },
  {
   "cell_type": "code",
   "execution_count": null,
   "metadata": {
    "collapsed": true
   },
   "outputs": [],
   "source": [
    "\n",
    "print(yeniListe)\n",
    "#Peki şimdi bu durumda yeni listeye eleman eklersek\n",
    "#Eski liste bu değişiklikten etkilenir mi yoksa kendisini aynen korur mu ?\n",
    "yeniListe.append('ss')\n",
    "print(eskiListe)"
   ]
  },
  {
   "cell_type": "code",
   "execution_count": 49,
   "metadata": {
    "collapsed": false
   },
   "outputs": [
    {
     "name": "stdout",
     "output_type": "stream",
     "text": [
      "17\n",
      "572\n"
     ]
    }
   ],
   "source": [
    "'Liste tüm elemanları toplama'\n",
    "liste=[1,2,3,4,5,True,True]\n",
    "toplam = sum(liste)\n",
    "print(toplam)\n",
    "toplam=sum(liste,(444)+111) # diyerek toplamaya 10 dan başlayabiliriz \n",
    "print(toplam)"
   ]
  },
  {
   "cell_type": "code",
   "execution_count": 41,
   "metadata": {
    "collapsed": false
   },
   "outputs": [
    {
     "name": "stdout",
     "output_type": "stream",
     "text": [
      "<class 'enumerate'>\n",
      "[(0, 'tolga'), (1, 'hasan'), (2, 'yusuf')]\n",
      "[(10, 'tolga'), (11, 'hasan'), (12, 'yusuf')]\n"
     ]
    }
   ],
   "source": [
    "'Eğer hem elemana hem indexine ihtiyacınız varsa'\n",
    "'bu durumda enumerate fonksiyonu kullanılır'\n",
    "liste=['tolga','hasan','yusuf']\n",
    "islem = enumerate(liste)\n",
    "#Kendine özel tipi vardır\n",
    "print(type(islem))\n",
    "#Listeyi yazdıralım\n",
    "print(list(islem))\n",
    "#İkinci bir parametre yazmak zorunda değiliz ancak\n",
    "#Eğer enumeratenin yanına 2. parametreyi girersek bu parametreyi indexe ekler\n",
    "islem = enumerate(liste, 10)\n",
    "print(list(islem))"
   ]
  },
  {
   "cell_type": "code",
   "execution_count": 57,
   "metadata": {
    "collapsed": false
   },
   "outputs": [
    {
     "name": "stdout",
     "output_type": "stream",
     "text": [
      "5\n"
     ]
    }
   ],
   "source": [
    "d=[]\n",
    "type(d)\n",
    "d=[[0,1],[2,3],[4,5]]\n",
    "print(d[2][1])"
   ]
  },
  {
   "cell_type": "code",
   "execution_count": null,
   "metadata": {
    "collapsed": false
   },
   "outputs": [],
   "source": []
  },
  {
   "cell_type": "code",
   "execution_count": null,
   "metadata": {
    "collapsed": true
   },
   "outputs": [],
   "source": []
  }
 ],
 "metadata": {
  "kernelspec": {
   "display_name": "Python 3",
   "language": "python",
   "name": "python3"
  },
  "language_info": {
   "codemirror_mode": {
    "name": "ipython",
    "version": 3
   },
   "file_extension": ".py",
   "mimetype": "text/x-python",
   "name": "python",
   "nbconvert_exporter": "python",
   "pygments_lexer": "ipython3",
   "version": "3.6.0"
  }
 },
 "nbformat": 4,
 "nbformat_minor": 2
}

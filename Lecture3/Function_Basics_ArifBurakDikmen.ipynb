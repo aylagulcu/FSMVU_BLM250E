{
 "cells": [
  {
   "cell_type": "markdown",
   "metadata": {},
   "source": [
    "# Fonksiyonlar nedir? Ne işe yararlar"
   ]
  },
  {
   "cell_type": "code",
   "execution_count": null,
   "metadata": {
    "collapsed": true
   },
   "outputs": [],
   "source": [
    "# Fonksiyonları diğer programlama dillerinde olduğu gibi python'da da kullanırız. \n",
    "# Fonksiyonların görevi, karmaşık işlemleri bir araya toplayarak, bu işlemleri tek adımda yapmamızı sağlamaktır. \n",
    "# Tekrara düşmemek, kodun daha anlaşılır olmasını sağlamak ve zaman kazandırmaktır amaçlanır.\n",
    "# Örneğin print(), öğrendiğimiz ilk fonksiyondur. "
   ]
  },
  {
   "cell_type": "markdown",
   "metadata": {},
   "source": [
    "# Fonksiyonlar nasıl tanımlanır?"
   ]
  },
  {
   "cell_type": "code",
   "execution_count": 2,
   "metadata": {
    "collapsed": true
   },
   "outputs": [],
   "source": [
    "def fonksiyonAdi( parametreler ): # Kodlar def adlı bir ifade ile başlar.\n",
    "   \"string ifade\" #String ifadeyi print eder.\n",
    "   kodlar #Kodlar\n",
    "   return [expression] #bir ifade döndürür.\n"
   ]
  },
  {
   "cell_type": "code",
   "execution_count": 1,
   "metadata": {
    "collapsed": false
   },
   "outputs": [
    {
     "name": "stdout",
     "output_type": "stream",
     "text": [
      "Burak 20 İstanbul Öğrenci\n"
     ]
    }
   ],
   "source": [
    "#Örnek bir fonksiyon ve Fonksiyonun nasıl kolaylık sağladığını görmek için\n",
    "\n",
    "print(\"Burak\", \"20\", \"İstanbul\", \"Öğrenci\") #gördüğümüz üzere print fonksiyonu 4 tane parametre aldı ve çıktı verdi.\n",
    "\n",
    "#Fark ederseniz çıktıyı yan yana verdi. Alt alta bir şekilde veremez miydi? Evet verebilirdi ama print fonksiyonu arka planda \n",
    "# işlemleri gerçekleştiriyor. Aynı şekilde input fonksiyonu da böyle çalışır.\n"
   ]
  },
  {
   "cell_type": "code",
   "execution_count": 3,
   "metadata": {
    "collapsed": true
   },
   "outputs": [],
   "source": [
    "#Şimdi basit bir fonksiyon yazalım.\n",
    "\n",
    "def kayit():\n",
    "    print(\"Merhaba\")\n",
    "    "
   ]
  },
  {
   "cell_type": "code",
   "execution_count": 4,
   "metadata": {
    "collapsed": false
   },
   "outputs": [
    {
     "name": "stdout",
     "output_type": "stream",
     "text": [
      "Merhaba\n"
     ]
    }
   ],
   "source": [
    "# fonksiyonu çağıralım.\n",
    "kayit()"
   ]
  },
  {
   "cell_type": "code",
   "execution_count": 7,
   "metadata": {
    "collapsed": true
   },
   "outputs": [],
   "source": [
    "# Python'da iki tip fonksiyon bulunur biri builtin functions ikincisi custom functions. Builtin yani gömülü fonksiyonlar \n",
    "# print gibi pyhton'ın barındırdığı fonksiyonlardır. Custom fonksiyonlar ise kullanıcının oluşturduğu fonksiyonlardır. "
   ]
  },
  {
   "cell_type": "code",
   "execution_count": 5,
   "metadata": {
    "collapsed": false
   },
   "outputs": [
    {
     "name": "stdout",
     "output_type": "stream",
     "text": [
      "\n",
      "Sistemde kurulu Python'ın;\n",
      "\tana sürüm numarası: 3\n",
      "\talt sürüm numarası: 6\n",
      "\tminik sürüm numarası: 0\n",
      "\n",
      "Kullanılan işletim sisteminin;\n",
      "\tadı: win32\n"
     ]
    }
   ],
   "source": [
    "#Şimdi ise daha karmaşık bir fonksiyon örneği yapalım.\n",
    "def sistemBilgisi():\n",
    "    import sys #sys modulü kullanıldı\n",
    "    print(\"\\nSistemde kurulu Python'ın;\")\n",
    "    print(\"\\tana sürüm numarası:\", sys.version_info.major)\n",
    "    print(\"\\talt sürüm numarası:\", sys.version_info.minor)\n",
    "    print(\"\\tminik sürüm numarası:\", sys.version_info.micro)\n",
    "\n",
    "    print(\"\\nKullanılan işletim sisteminin;\")\n",
    "    print(\"\\tadı:\", sys.platform)\n",
    "\n",
    "sistemBilgisi() #fonksiyonu çağırmak"
   ]
  },
  {
   "cell_type": "code",
   "execution_count": 9,
   "metadata": {
    "collapsed": true
   },
   "outputs": [],
   "source": [
    "# Görüldüğü üzere yazdığımız fonksiyon bize kullandığımız sürüm ve işletim sistemi bilgisini verdi. Son olarak parametre alan \n",
    "#bir fonksiyon yazalım."
   ]
  },
  {
   "cell_type": "code",
   "execution_count": 6,
   "metadata": {
    "collapsed": true
   },
   "outputs": [],
   "source": [
    "def ogrenciKaydi(isim, soyad, yas):\n",
    "    print(\"adi: \", isim)\n",
    "    print(\"soyad: \", soyad)\n",
    "    print(\"yas: \", yas)"
   ]
  },
  {
   "cell_type": "code",
   "execution_count": 7,
   "metadata": {
    "collapsed": false
   },
   "outputs": [
    {
     "name": "stdout",
     "output_type": "stream",
     "text": [
      "adi:  Ahmet\n",
      "soyad:  Ak\n",
      "yas:  20\n"
     ]
    }
   ],
   "source": [
    "#çağıralım\n",
    "ogrenciKaydi(\"Ahmet\", \"Ak\", 20)  #print fonksiyonunun bir benzerini yazdık."
   ]
  },
  {
   "cell_type": "code",
   "execution_count": 8,
   "metadata": {
    "collapsed": false
   },
   "outputs": [
    {
     "data": {
      "text/plain": [
       "9"
      ]
     },
     "execution_count": 8,
     "metadata": {},
     "output_type": "execute_result"
    }
   ],
   "source": [
    "#şimdi bir string'in uzunluğunu nasıl bulacağımıza bir bakalım?\n",
    "len(\"minuteman\")"
   ]
  },
  {
   "cell_type": "code",
   "execution_count": 9,
   "metadata": {
    "collapsed": false
   },
   "outputs": [
    {
     "name": "stdout",
     "output_type": "stream",
     "text": [
      "9\n"
     ]
    }
   ],
   "source": [
    "# peki ya len fonksiyonu olmasaydı biz bir string'in uzunluğunu nasıl bulabilirdik? \n",
    "def uzunluk(öge):\n",
    "    c = 0\n",
    "    for s in öge:\n",
    "        c += 1\n",
    "    print(c)\n",
    "#çağıralım\n",
    "uzunluk(\"minuteman\")"
   ]
  },
  {
   "cell_type": "code",
   "execution_count": 10,
   "metadata": {
    "collapsed": false
   },
   "outputs": [
    {
     "name": "stdout",
     "output_type": "stream",
     "text": [
      "3\n"
     ]
    }
   ],
   "source": [
    "#Görüldüğü gibi bir fonksiyon ile tekrar tekrar for döngüsü yazmaya gerek kalmadı. Aynı zamanda listelerin bile uzunluğunu hesaplar.\n",
    "liste = [\"new york\", \"istanbul\", \"tokyo\"]\n",
    "uzunluk(liste)"
   ]
  },
  {
   "cell_type": "code",
   "execution_count": 11,
   "metadata": {
    "collapsed": false
   },
   "outputs": [
    {
     "data": {
      "text/plain": [
       "8"
      ]
     },
     "execution_count": 11,
     "metadata": {},
     "output_type": "execute_result"
    }
   ],
   "source": [
    "#Daha öncesinde de aşina olduğumuz return komutunu fonksiyon içinde kullanalım.\n",
    "def toplama(a, b):\n",
    "    return a+b\n",
    "toplama(3, 5) # return bize print ile basmak yerine çok daha esnek bir kullanım imkanı sunar."
   ]
  },
  {
   "cell_type": "code",
   "execution_count": 12,
   "metadata": {
    "collapsed": false
   },
   "outputs": [
    {
     "name": "stdout",
     "output_type": "stream",
     "text": [
      "3\n"
     ]
    }
   ],
   "source": [
    "def fonk():\n",
    "    print(3)\n",
    "    return\n",
    "    print(5)\n",
    "\n",
    "fonk()"
   ]
  },
  {
   "cell_type": "code",
   "execution_count": null,
   "metadata": {
    "collapsed": true
   },
   "outputs": [],
   "source": [
    "#Bu kodları çalıştırdığınızda yalnızca print(3) satırının çalıştığını, print(5) satırına ise hiç ulaşılmadığını göreceksiniz. İşte bu durumun sebebi, Python’ın kodları return satırından itibaren okumayı bırakmasıdır."
   ]
  },
  {
   "cell_type": "code",
   "execution_count": 29,
   "metadata": {
    "collapsed": false
   },
   "outputs": [
    {
     "name": "stdout",
     "output_type": "stream",
     "text": [
      "eksi değerli sayı olmaz!\n"
     ]
    }
   ],
   "source": [
    "def fonk(n):\n",
    "    if n < 0:\n",
    "        return 'eksi değerli sayı olmaz!'\n",
    "    else:\n",
    "        return n\n",
    "\n",
    "f = fonk(-5)\n",
    "print(f)\n",
    "# gibi bir fonksiyonda işimze yarayacaktır."
   ]
  },
  {
   "cell_type": "code",
   "execution_count": 18,
   "metadata": {
    "collapsed": false
   },
   "outputs": [
    {
     "data": {
      "text/plain": [
       "function"
      ]
     },
     "execution_count": 18,
     "metadata": {},
     "output_type": "execute_result"
    }
   ],
   "source": [
    "type(fonk)"
   ]
  },
  {
   "cell_type": "code",
   "execution_count": 24,
   "metadata": {
    "collapsed": false
   },
   "outputs": [
    {
     "name": "stdout",
     "output_type": "stream",
     "text": [
      "55\n"
     ]
    }
   ],
   "source": [
    "fonk = 55\n",
    "print(fonk)"
   ]
  },
  {
   "cell_type": "code",
   "execution_count": 25,
   "metadata": {
    "collapsed": false
   },
   "outputs": [
    {
     "ename": "TypeError",
     "evalue": "'int' object is not callable",
     "output_type": "error",
     "traceback": [
      "\u001b[0;31m---------------------------------------------------------------------------\u001b[0m",
      "\u001b[0;31mTypeError\u001b[0m                                 Traceback (most recent call last)",
      "\u001b[0;32m<ipython-input-25-508c4b848a56>\u001b[0m in \u001b[0;36m<module>\u001b[0;34m()\u001b[0m\n\u001b[0;32m----> 1\u001b[0;31m \u001b[0mprint\u001b[0m\u001b[1;33m(\u001b[0m\u001b[0mfonk\u001b[0m\u001b[1;33m(\u001b[0m\u001b[1;36m100\u001b[0m\u001b[1;33m)\u001b[0m\u001b[1;33m)\u001b[0m\u001b[1;33m\u001b[0m\u001b[0m\n\u001b[0m",
      "\u001b[0;31mTypeError\u001b[0m: 'int' object is not callable"
     ]
    }
   ],
   "source": [
    "print(fonk(100))"
   ]
  },
  {
   "cell_type": "code",
   "execution_count": 30,
   "metadata": {
    "collapsed": false
   },
   "outputs": [
    {
     "name": "stdout",
     "output_type": "stream",
     "text": [
      "8\n"
     ]
    }
   ],
   "source": [
    "def fonk(a, b):\n",
    "    return a+b\n",
    "print(fonk(3,5))"
   ]
  },
  {
   "cell_type": "code",
   "execution_count": 31,
   "metadata": {
    "collapsed": false
   },
   "outputs": [
    {
     "ename": "TypeError",
     "evalue": "fonk() missing 1 required positional argument: 'b'",
     "output_type": "error",
     "traceback": [
      "\u001b[0;31m---------------------------------------------------------------------------\u001b[0m",
      "\u001b[0;31mTypeError\u001b[0m                                 Traceback (most recent call last)",
      "\u001b[0;32m<ipython-input-31-3d382add4eb9>\u001b[0m in \u001b[0;36m<module>\u001b[0;34m()\u001b[0m\n\u001b[0;32m----> 1\u001b[0;31m \u001b[0mfonk\u001b[0m\u001b[1;33m(\u001b[0m\u001b[1;36m5\u001b[0m\u001b[1;33m)\u001b[0m\u001b[1;33m\u001b[0m\u001b[0m\n\u001b[0m",
      "\u001b[0;31mTypeError\u001b[0m: fonk() missing 1 required positional argument: 'b'"
     ]
    }
   ],
   "source": [
    "fonk(5)"
   ]
  },
  {
   "cell_type": "markdown",
   "metadata": {},
   "source": [
    "# Rastgele Sayıda İsimsiz Parametre Belirleme"
   ]
  },
  {
   "cell_type": "code",
   "execution_count": 19,
   "metadata": {
    "collapsed": false
   },
   "outputs": [
    {
     "name": "stdout",
     "output_type": "stream",
     "text": [
      "(3, 5, 7, 9)\n"
     ]
    }
   ],
   "source": [
    "#Python'da fonksiyonların alabileceği maksimum parametre sayısı bellidir. Örneğin input fonksiyonu tek parametre alırken pow fonksiyonu iki tane parametre alır.\n",
    "#Sınırsız parametreli bir fonksiyon yazmak istersek ne yapmalıyız? \n",
    "\n",
    "def fonk(*parametreler):\n",
    "    print(parametreler)\n",
    "    \n",
    "fonk(3, 5, 7, 9)"
   ]
  },
  {
   "cell_type": "code",
   "execution_count": 20,
   "metadata": {
    "collapsed": false
   },
   "outputs": [
    {
     "name": "stdout",
     "output_type": "stream",
     "text": [
      "105\n"
     ]
    }
   ],
   "source": [
    "#Yukarıda görüldüğü gibi * işareti bize sayısız parametre aldırır fakat pratikte sınırsızdır ama teknik olarak max 256'dır.\n",
    "def çarp(*sayılar):\n",
    "    sonuç = 1\n",
    "    for i in sayılar:\n",
    "        sonuç *= i\n",
    "    print(sonuç)\n",
    "\n",
    "çarp(3, 5, 7)"
   ]
  },
  {
   "cell_type": "code",
   "execution_count": 21,
   "metadata": {
    "collapsed": false
   },
   "outputs": [
    {
     "name": "stdout",
     "output_type": "stream",
     "text": [
      "15\n"
     ]
    }
   ],
   "source": [
    "çarp(5,3)"
   ]
  },
  {
   "cell_type": "code",
   "execution_count": 3,
   "metadata": {
    "collapsed": true
   },
   "outputs": [],
   "source": [
    "#Son yaptığımız örnekteki gibi birden fazla sayıyı çarpacak bir fonksiyonda yazdık. "
   ]
  },
  {
   "cell_type": "code",
   "execution_count": 33,
   "metadata": {
    "collapsed": false
   },
   "outputs": [
    {
     "name": "stdout",
     "output_type": "stream",
     "text": [
      "['Ahmet', 'Mehmet', 'Veli']\n"
     ]
    }
   ],
   "source": [
    "liste = [\"Ahmet\", \"Mehmet\", \"Veli\"]\n",
    "print(*liste)\n"
   ]
  },
  {
   "cell_type": "code",
   "execution_count": 34,
   "metadata": {
    "collapsed": false
   },
   "outputs": [
    {
     "name": "stdout",
     "output_type": "stream",
     "text": [
      "(1, 2, 3, 4, 5)\n"
     ]
    }
   ],
   "source": [
    "#Gördüğünüz gibi, * işareti herhangi bir öğeyi alıp, bunu parçalarına ayırıyor. İşte bu * işaretini fonksiyon tanımlarken kullandığımızda ise bu işlemin tam tersi gerçekleşiyor. Yani fonksiyon tanımında parametrenin soluna * getirdiğimizde, bu fonksiyon çağrılırken verilen argümanlar tek bir değişken içinde bir demet olarak toplanıyor.\n",
    "def fonksiyon(*parametreler):\n",
    "    print(parametreler)\n",
    "\n",
    "fonksiyon(1, 2, 3, 4, 5)\n"
   ]
  },
  {
   "cell_type": "code",
   "execution_count": 6,
   "metadata": {
    "collapsed": true
   },
   "outputs": [],
   "source": [
    "# her bir öğenin (1, 2, 3, 4, 5) tek bir demet içinde toplandığını görüyorsunuz.\n",
    "# genellikle pyhton yazanlar çoklu parametreleri *args olarak yazarlar. \n",
    "def fonksiyon(*args):\n",
    "    ...\n",
    "# args zorunlu bir ifade değildir fakat bir gelenek olduğu için geleneğin bozulmamasını iyi bir alışkanlıktır :)\n",
    "\n"
   ]
  },
  {
   "cell_type": "markdown",
   "metadata": {},
   "source": [
    "# Rastgele Sayıda İsimli Parametre Belirleme "
   ]
  },
  {
   "cell_type": "code",
   "execution_count": 8,
   "metadata": {
    "collapsed": false
   },
   "outputs": [
    {
     "name": "stdout",
     "output_type": "stream",
     "text": [
      "{'isim': 'Ahmet', 'soyisim': 'Ak', 'meslek': 'Mühendis', 'şehir': 'Ankara'}\n"
     ]
    }
   ],
   "source": [
    "#rastgele sayıda isimli parametre belirlemek de mümkündür.\n",
    "def fonksiyon(**parametreler):\n",
    "    print(parametreler)\n",
    "\n",
    "fonksiyon(isim=\"Ahmet\", soyisim=\"Ak\", meslek=\"Mühendis\", şehir=\"Ankara\")\n"
   ]
  },
  {
   "cell_type": "code",
   "execution_count": 37,
   "metadata": {
    "collapsed": false
   },
   "outputs": [
    {
     "ename": "TypeError",
     "evalue": "ogrenciKaydi() got an unexpected keyword argument 'ad'",
     "output_type": "error",
     "traceback": [
      "\u001b[0;31m---------------------------------------------------------------------------\u001b[0m",
      "\u001b[0;31mTypeError\u001b[0m                                 Traceback (most recent call last)",
      "\u001b[0;32m<ipython-input-37-45dfdcf566b3>\u001b[0m in \u001b[0;36m<module>\u001b[0;34m()\u001b[0m\n\u001b[1;32m      6\u001b[0m             \u001b[0mprint\u001b[0m\u001b[1;33m(\u001b[0m\u001b[1;34m\"{:<10}: {}\"\u001b[0m\u001b[1;33m.\u001b[0m\u001b[0mformat\u001b[0m\u001b[1;33m(\u001b[0m\u001b[0manahtar\u001b[0m\u001b[1;33m,\u001b[0m \u001b[0mdeğer\u001b[0m\u001b[1;33m)\u001b[0m\u001b[1;33m)\u001b[0m\u001b[1;33m\u001b[0m\u001b[0m\n\u001b[1;32m      7\u001b[0m \u001b[1;33m\u001b[0m\u001b[0m\n\u001b[0;32m----> 8\u001b[0;31m \u001b[0mogrenciKaydi\u001b[0m\u001b[1;33m(\u001b[0m\u001b[0mad\u001b[0m\u001b[1;33m=\u001b[0m\u001b[1;34m\"Mehmet\"\u001b[0m\u001b[1;33m,\u001b[0m \u001b[0msoyad\u001b[0m\u001b[1;33m=\u001b[0m\u001b[1;34m\"Beyaz\"\u001b[0m\u001b[1;33m,\u001b[0m \u001b[0mşehir\u001b[0m\u001b[1;33m=\u001b[0m\u001b[1;34m\"İstanbul\"\u001b[0m\u001b[1;33m,\u001b[0m \u001b[0mtel\u001b[0m\u001b[1;33m=\u001b[0m\u001b[1;34m\"05333333333\"\u001b[0m\u001b[1;33m)\u001b[0m\u001b[1;33m\u001b[0m\u001b[0m\n\u001b[0m",
      "\u001b[0;31mTypeError\u001b[0m: ogrenciKaydi() got an unexpected keyword argument 'ad'"
     ]
    }
   ],
   "source": [
    "#Gördüğünüz gibi, fonksiyonu tanımlarken parametremizin sol tarafına yerleştirdiğimiz ** işareti, bu fonksiyonu çağırırken yazdığımız isimli parametrelerin bize bir sözlük olarak verilmesini sağlıyor\n",
    "#Yukarıda tanımlanan ogrenciKaydi fonksiyonunu daha esnek kullanabiliriz. \n",
    "\n",
    "def ogrenciKaydi(**bilgiler):\n",
    "        for anahtar, değer in bilgiler.items():\n",
    "            print(\"{:<10}: {}\".format(anahtar, değer))\n",
    "\n",
    "ogrenciKaydi(ad=\"Mehmet\", soyad=\"Beyaz\", şehir=\"İstanbul\", tel=\"05333333333\")"
   ]
  },
  {
   "cell_type": "code",
   "execution_count": null,
   "metadata": {
    "collapsed": true
   },
   "outputs": [],
   "source": []
  },
  {
   "cell_type": "code",
   "execution_count": 36,
   "metadata": {
    "collapsed": false
   },
   "outputs": [
    {
     "name": "stdout",
     "output_type": "stream",
     "text": [
      "kitap = book\n",
      "bilgisayar = computer\n",
      "programlama = programming\n",
      "fonksiyon kelimesi sözlükte yok!\n"
     ]
    }
   ],
   "source": [
    "#Yaptığımız gibi ** ifadesi sayesinde bir veritabanı oluşturup kullanabiliyoruz. \n",
    "#*'lı ifadede args kullanılırken ** ifadesinde \"kwargs\" olarak tanımlanır. \n",
    "\n",
    "def kayıt_oluştur(**kwargs):\n",
    "    ...\n",
    "# Aynı zamanda iki ifade de aynı şekilde kullanılabilir. \n",
    "def karşılık_bul(*args, **kwargs):\n",
    "    for sözcük in args:\n",
    "        if sözcük in kwargs:\n",
    "            print(\"{} = {}\".format(sözcük, kwargs[sözcük]))\n",
    "        else:\n",
    "            print(\"{} kelimesi sözlükte yok!\".format(sözcük))\n",
    "\n",
    "\n",
    "sözlük = {\"kitap\"      : \"book\",\n",
    "          \"bilgisayar\" : \"computer\",\n",
    "          \"programlama\": \"programming\"}\n",
    "\n",
    "karşılık_bul(\"kitap\", \"bilgisayar\", \"programlama\", \"fonksiyon\", **sözlük)\n"
   ]
  },
  {
   "cell_type": "code",
   "execution_count": null,
   "metadata": {
    "collapsed": true
   },
   "outputs": [],
   "source": [
    "# eğer kwargs gibi bir ifade elimizde olmasaydı şöyle bir tanım yapmamız gerekecekti. \n",
    "import sys\n",
    "\n",
    "def bas(*args, start='', sep=' ', end='\\n', file=sys.stdout, flush=False):\n",
    "    for öğe in args:\n",
    "        print(start+öğe, sep=sep, end=end, file=file, flush=flush)\n"
   ]
  }
 ],
 "metadata": {
  "kernelspec": {
   "display_name": "Python 3",
   "language": "python",
   "name": "python3"
  },
  "language_info": {
   "codemirror_mode": {
    "name": "ipython",
    "version": 3
   },
   "file_extension": ".py",
   "mimetype": "text/x-python",
   "name": "python",
   "nbconvert_exporter": "python",
   "pygments_lexer": "ipython3",
   "version": "3.6.0"
  }
 },
 "nbformat": 4,
 "nbformat_minor": 2
}

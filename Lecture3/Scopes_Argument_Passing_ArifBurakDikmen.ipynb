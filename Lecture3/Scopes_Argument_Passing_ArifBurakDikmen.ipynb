{
 "cells": [
  {
   "cell_type": "markdown",
   "metadata": {},
   "source": [
    "# Scope ve Global Değişken Kavramları"
   ]
  },
  {
   "cell_type": "code",
   "execution_count": 1,
   "metadata": {
    "collapsed": true
   },
   "outputs": [],
   "source": [
    "#Her değişkene programın her kısmından erişemezsiniz. Local ve global kavramlarını inceleyelim."
   ]
  },
  {
   "cell_type": "code",
   "execution_count": 1,
   "metadata": {
    "collapsed": false
   },
   "outputs": [
    {
     "data": {
      "text/plain": [
       "1"
      ]
     },
     "execution_count": 1,
     "metadata": {},
     "output_type": "execute_result"
    }
   ],
   "source": [
    "x = 0\n",
    "\n",
    "def fonk():\n",
    "    x = 1\n",
    "    return x\n",
    "fonk() #böyle bir fonksiyon tanımlayalım. burada fonksiyonun görevi x değişkenini döndürmektir. "
   ]
  },
  {
   "cell_type": "code",
   "execution_count": 3,
   "metadata": {
    "collapsed": false
   },
   "outputs": [
    {
     "name": "stdout",
     "output_type": "stream",
     "text": [
      "0\n"
     ]
    },
    {
     "data": {
      "text/plain": [
       "1"
      ]
     },
     "execution_count": 3,
     "metadata": {},
     "output_type": "execute_result"
    }
   ],
   "source": [
    "print(x)\n",
    "fonk()"
   ]
  },
  {
   "cell_type": "code",
   "execution_count": 4,
   "metadata": {
    "collapsed": false
   },
   "outputs": [
    {
     "name": "stdout",
     "output_type": "stream",
     "text": [
      "fonksiyon içindeki x:  1\n",
      "fonksiyon dışındaki x:  0\n"
     ]
    }
   ],
   "source": [
    "#çıktıyı aldığımızda fonksiyonun içindeki x değeri döndürüldü peki şöyle bir işlem yaparsak.\n",
    "x = 0\n",
    "\n",
    "def fonk():\n",
    "    x = 1\n",
    "    return x\n",
    "\n",
    "print('fonksiyon içindeki x: ', fonk())\n",
    "print('fonksiyon dışındaki x: ', x)\n"
   ]
  },
  {
   "cell_type": "code",
   "execution_count": 5,
   "metadata": {
    "collapsed": false
   },
   "outputs": [
    {
     "name": "stdout",
     "output_type": "stream",
     "text": [
      "x'in ilk hali: []\n",
      "x'i değiştiriyoruz...\n",
      "x'in son hali:  [1]\n"
     ]
    }
   ],
   "source": [
    "#bu çıktının farklı olmasının sebebi; global ve local değişkenlerin farkından kaynaklanır. fonksiyonun içine tanımladığımız x local iken, dışına tanımlanan x global değişkendir.\n",
    "x = []\n",
    "print('x\\'in ilk hali:', x)\n",
    "\n",
    "def değiştir():\n",
    "    print('x\\'i değiştiriyoruz...')\n",
    "    x.append(1)\n",
    "    return x\n",
    "\n",
    "değiştir()\n",
    "print('x\\'in son hali: ', x)\n"
   ]
  },
  {
   "cell_type": "code",
   "execution_count": 8,
   "metadata": {
    "collapsed": false,
    "scrolled": true
   },
   "outputs": [
    {
     "ename": "UnboundLocalError",
     "evalue": "local variable 'isim' referenced before assignment",
     "output_type": "error",
     "traceback": [
      "\u001b[0;31m---------------------------------------------------------------------------\u001b[0m",
      "\u001b[0;31mUnboundLocalError\u001b[0m                         Traceback (most recent call last)",
      "\u001b[0;32m<ipython-input-8-f12bcc73e299>\u001b[0m in \u001b[0;36m<module>\u001b[0;34m()\u001b[0m\n\u001b[1;32m      7\u001b[0m     \u001b[1;32mreturn\u001b[0m \u001b[0misim\u001b[0m\u001b[1;33m\u001b[0m\u001b[0m\n\u001b[1;32m      8\u001b[0m \u001b[1;33m\u001b[0m\u001b[0m\n\u001b[0;32m----> 9\u001b[0;31m \u001b[0mprint\u001b[0m\u001b[1;33m(\u001b[0m\u001b[0mfonk\u001b[0m\u001b[1;33m(\u001b[0m\u001b[1;33m)\u001b[0m\u001b[1;33m)\u001b[0m\u001b[1;33m\u001b[0m\u001b[0m\n\u001b[0m\u001b[1;32m     10\u001b[0m \u001b[1;31m# kod hata verecektir\u001b[0m\u001b[1;33m\u001b[0m\u001b[1;33m\u001b[0m\u001b[0m\n",
      "\u001b[0;32m<ipython-input-8-f12bcc73e299>\u001b[0m in \u001b[0;36mfonk\u001b[0;34m()\u001b[0m\n\u001b[1;32m      4\u001b[0m \u001b[1;33m\u001b[0m\u001b[0m\n\u001b[1;32m      5\u001b[0m \u001b[1;32mdef\u001b[0m \u001b[0mfonk\u001b[0m\u001b[1;33m(\u001b[0m\u001b[1;33m)\u001b[0m\u001b[1;33m:\u001b[0m\u001b[1;33m\u001b[0m\u001b[0m\n\u001b[0;32m----> 6\u001b[0;31m     \u001b[0misim\u001b[0m \u001b[1;33m+=\u001b[0m \u001b[1;34m' Dikmen'\u001b[0m\u001b[1;33m\u001b[0m\u001b[0m\n\u001b[0m\u001b[1;32m      7\u001b[0m     \u001b[1;32mreturn\u001b[0m \u001b[0misim\u001b[0m\u001b[1;33m\u001b[0m\u001b[0m\n\u001b[1;32m      8\u001b[0m \u001b[1;33m\u001b[0m\u001b[0m\n",
      "\u001b[0;31mUnboundLocalError\u001b[0m: local variable 'isim' referenced before assignment"
     ]
    }
   ],
   "source": [
    "#Python herhangi bir nesneye göndermede bulunduğumuzda, yani o nesnenin değerini talep ettiğimizde aradığımız nesneyi ilk önce mevcut isim alanı içinde arar. Eğer aranan nesneyi mevcut isim alanı içinde bulamazsa yukarıya doğru bütün isim alanlarını tek tek kontrol eder.\n",
    "#Yani öncelikle local değişken aranır eğer bulunamazsa global değişkeni alınır.\n",
    "isim = 'Arif Burak'\n",
    "\n",
    "def fonk():\n",
    "    isim += ' Dikmen'\n",
    "    return isim\n",
    "\n",
    "print(fonk())\n",
    "# kod hata verecektir"
   ]
  },
  {
   "cell_type": "code",
   "execution_count": 7,
   "metadata": {
    "collapsed": false
   },
   "outputs": [
    {
     "name": "stdout",
     "output_type": "stream",
     "text": [
      "Arif Burak Dikmen\n"
     ]
    }
   ],
   "source": [
    "isim = 'Arif Burak'\n",
    "\n",
    "def fonk():\n",
    "    global isim\n",
    "    isim += ' Dikmen'\n",
    "    return isim\n",
    "\n",
    "print(fonk()) #isim değişkenini global olarak kullanırsak hatayı çözmüş oluruz."
   ]
  },
  {
   "cell_type": "code",
   "execution_count": 8,
   "metadata": {
    "collapsed": true
   },
   "outputs": [],
   "source": [
    "#global mantıklı bir çözüm olsa bile alanda kirliliğe yol açar. Bu yüzden mümkün oldukça bu ifadeden kaçınılmalı."
   ]
  },
  {
   "cell_type": "markdown",
   "metadata": {},
   "source": [
    "# Pass by Value vs Reference "
   ]
  },
  {
   "cell_type": "code",
   "execution_count": 9,
   "metadata": {
    "collapsed": false
   },
   "outputs": [
    {
     "name": "stdout",
     "output_type": "stream",
     "text": [
      "Fonksiyonun içindeki değerler:  [1, 2, 3, 4]\n",
      "Fonksiyonun dışındaki değerler:  [10, 20, 30]\n"
     ]
    }
   ],
   "source": [
    "#Pyhton'da tüm parametrelerin referansı gönderilir. Yani parametrenin referans ettiği değerler fonksiyon çağrıldığında değişebilir.\n",
    "\n",
    "# Fonksiyon burada tanımlanır\n",
    "def degistir( mylist ):\n",
    "   \"Fonksiyona gönderilen liste değişir.\"\n",
    "   mylist = [1,2,3,4]; # Liste tanımı yapılır\n",
    "   print (\"Fonksiyonun içindeki değerler: \", mylist)\n",
    "   return\n",
    "\n",
    "# Fonksiyonu çağırırsak\n",
    "mylist = [10,20,30];\n",
    "degistir( mylist );\n",
    "print (\"Fonksiyonun dışındaki değerler: \", mylist)\n"
   ]
  },
  {
   "cell_type": "code",
   "execution_count": null,
   "metadata": {
    "collapsed": true
   },
   "outputs": [],
   "source": []
  }
 ],
 "metadata": {
  "kernelspec": {
   "display_name": "Python 3",
   "language": "python",
   "name": "python3"
  },
  "language_info": {
   "codemirror_mode": {
    "name": "ipython",
    "version": 3
   },
   "file_extension": ".py",
   "mimetype": "text/x-python",
   "name": "python",
   "nbconvert_exporter": "python",
   "pygments_lexer": "ipython3",
   "version": "3.6.0"
  }
 },
 "nbformat": 4,
 "nbformat_minor": 2
}

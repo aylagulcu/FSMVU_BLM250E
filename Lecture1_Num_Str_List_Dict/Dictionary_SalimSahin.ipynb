{
 "cells": [
  {
   "cell_type": "code",
   "execution_count": 1,
   "metadata": {
    "collapsed": true
   },
   "outputs": [],
   "source": [
    "#Dictinories \n",
    "#Dictionaries leri list yapısına benzetebiliriz. Bunlarda kendi içlerinde bir takım öğeleri belirli sınırlar, kurallar içerisinde\n",
    "#saklarlar."
   ]
  },
  {
   "cell_type": "code",
   "execution_count": 2,
   "metadata": {
    "collapsed": false
   },
   "outputs": [],
   "source": [
    "#Dictionary yapısının genel saklama mantığı, anahtar sözcük ve değer şeklinde çalışır. Yani anahtar sözcük belirleriz -isim- ve\n",
    "#bu anahatar sözcüğe karşılık bir değer -bilal- tutulur. "
   ]
  },
  {
   "cell_type": "code",
   "execution_count": 3,
   "metadata": {
    "collapsed": true
   },
   "outputs": [],
   "source": [
    "#Dictionary lerin tanımlama aşamaları ise şu şekilde oluşur, \n",
    " #Her bir anahtar sözcük ve değer arası iki nokta(:) ile ayrılır      .   'name': 'Bilal'\n",
    " #Her bir anahtar-deger ikilisi arasını ayırmak için virgul(,) koyarız.   'name' : 'Bilal Ekrem', 'surname':'Harmansa'\n",
    " #Ve bu ifadeler süslü parantezler içerisinde bulunur.                    {'name' : 'Bilal Ekrem', 'surname':'Harmansa'}\n",
    "    \n",
    "#Bir tane dictionary tanımlayalım ve değer okumanın nasıl olduğuna bakalım;"
   ]
  },
  {
   "cell_type": "code",
   "execution_count": 21,
   "metadata": {
    "collapsed": false,
    "scrolled": false
   },
   "outputs": [
    {
     "name": "stdout",
     "output_type": "stream",
     "text": [
      "Öğrenci adı:  Bilal Ekrem\n",
      "Öğrenci soyadı: Harmansa\n",
      "Öğrenci yaşı:  20\n"
     ]
    },
    {
     "data": {
      "text/plain": [
       "str"
      ]
     },
     "execution_count": 21,
     "metadata": {},
     "output_type": "execute_result"
    }
   ],
   "source": [
    "dictStudent = {'name' : 'Bilal Ekrem', 'surname':'Harmansa',\"age\":20}\n",
    "\n",
    "print (\"Öğrenci adı: \" , dictStudent['name']) #Python2 print \"Öğrenci adı: \",dictStudent['name']\n",
    "print (\"Öğrenci soyadı: \" + dictStudent['surname'])  #Normal print ifadeleri virgulle ayrılması gerekir, alttaki örnekte ki gibi.\n",
    "print (\"Öğrenci yaşı: \",dictStudent['age'])     \n",
    "\n",
    "type(dictStudent['name'])\n"
   ]
  },
  {
   "cell_type": "code",
   "execution_count": 5,
   "metadata": {
    "collapsed": false,
    "scrolled": false
   },
   "outputs": [
    {
     "ename": "KeyError",
     "evalue": "'isim'",
     "output_type": "error",
     "traceback": [
      "\u001b[0;31m---------------------------------------------------------------------------\u001b[0m",
      "\u001b[0;31mKeyError\u001b[0m                                  Traceback (most recent call last)",
      "\u001b[0;32m<ipython-input-5-ecfdc5754914>\u001b[0m in \u001b[0;36m<module>\u001b[0;34m()\u001b[0m\n\u001b[1;32m      1\u001b[0m \u001b[1;31m#Tanımlanmamış bir anahtar sözcüğe ulaşmaya çalıştığımızda hata alırız.\u001b[0m\u001b[1;33m\u001b[0m\u001b[1;33m\u001b[0m\u001b[0m\n\u001b[1;32m      2\u001b[0m \u001b[1;33m\u001b[0m\u001b[0m\n\u001b[0;32m----> 3\u001b[0;31m \u001b[0mprint\u001b[0m \u001b[1;33m(\u001b[0m\u001b[1;34m\"Öğrenci yaşı: \"\u001b[0m\u001b[1;33m,\u001b[0m\u001b[0mdictStudent\u001b[0m\u001b[1;33m[\u001b[0m\u001b[1;34m'isim'\u001b[0m\u001b[1;33m]\u001b[0m\u001b[1;33m)\u001b[0m\u001b[1;33m\u001b[0m\u001b[0m\n\u001b[0m\u001b[1;32m      4\u001b[0m \u001b[1;33m\u001b[0m\u001b[0m\n\u001b[1;32m      5\u001b[0m \u001b[1;31m#Ters şekilde değer okuması yapılamaz. Bizim yaptığımız şey anahtar dan degere gidiş. Değerden anahtara geçemeyiz. Böyle bir\u001b[0m\u001b[1;33m\u001b[0m\u001b[1;33m\u001b[0m\u001b[0m\n",
      "\u001b[0;31mKeyError\u001b[0m: 'isim'"
     ]
    }
   ],
   "source": [
    "#Tanımlanmamış bir anahtar sözcüğe ulaşmaya çalıştığımızda hata alırız.\n",
    "\n",
    "print (\"Öğrenci yaşı: \",dictStudent['isim'])\n",
    "\n",
    "#Ters şekilde değer okuması yapılamaz. Bizim yaptığımız şey anahtar dan degere gidiş. Değerden anahtara geçemeyiz. Böyle bir\n",
    "#durumda Bilal Ekrem i anahtar sözcük gibi düşünüp ona göre arama yapar.\n",
    "\n",
    "print (\"Öğrenci yaşı: \",dictStudent['Bilal Ekrem'])"
   ]
  },
  {
   "cell_type": "code",
   "execution_count": 27,
   "metadata": {
    "collapsed": false
   },
   "outputs": [
    {
     "name": "stdout",
     "output_type": "stream",
     "text": [
      "Öğrenci okulu:  Fatih Sultan Mehmet Vakıf Üniversitesi\n",
      "Öğrenci yaşı:  21\n",
      "{'name': 'Bilal Ekrem', 'surname': 'Harmansa', 'school': 'Fatih Sultan Mehmet Vakıf Üniversitesi', 'age': '21'}\n"
     ]
    }
   ],
   "source": [
    "#Yeni bir değer eklemek istediğimiz zaman şu şekilde ekleyebilir veya değişiklik yapabiliriz.\n",
    "\n",
    "dictStudent['school'] = \"Fatih Sultan Mehmet Vakıf Üniversitesi\"\n",
    "dictStudent['age'] = \"21\"\n",
    "\n",
    "print (\"Öğrenci okulu: \",dictStudent['school']) \n",
    "print (\"Öğrenci yaşı: \",dictStudent['age']) \n",
    "\n",
    "print(dictStudent)\n",
    "\n"
   ]
  },
  {
   "cell_type": "code",
   "execution_count": 23,
   "metadata": {
    "collapsed": false
   },
   "outputs": [
    {
     "name": "stdout",
     "output_type": "stream",
     "text": [
      "Öğrenci yaşı:  21\n"
     ]
    }
   ],
   "source": [
    "#Bir elemanın silinmesini istiyorsak del keywordu ile silebiliriz.\n",
    "\n",
    "print (\"Öğrenci yaşı: \",dictStudent) "
   ]
  },
  {
   "cell_type": "code",
   "execution_count": 28,
   "metadata": {
    "collapsed": false
   },
   "outputs": [
    {
     "name": "stdout",
     "output_type": "stream",
     "text": [
      "{'name': 'Bilal Ekrem', 'surname': 'Harmansa', 'school': 'Fatih Sultan Mehmet Vakıf Üniversitesi'}\n"
     ]
    }
   ],
   "source": [
    "del dictStudent['age']\n",
    "\n",
    "print (dictStudent) "
   ]
  },
  {
   "cell_type": "code",
   "execution_count": 5,
   "metadata": {
    "collapsed": false
   },
   "outputs": [
    {
     "name": "stdout",
     "output_type": "stream",
     "text": [
      "Öğrenci:  {}\n"
     ]
    }
   ],
   "source": [
    "#Bütün elemanların silinmesini istersek;\n",
    "\n",
    "dictStudent.clear();\n",
    "\n",
    "print (\"Öğrenci: \",dictStudent)\n",
    "\n",
    "#fonksiyonu ile silebilirken."
   ]
  },
  {
   "cell_type": "code",
   "execution_count": 29,
   "metadata": {
    "collapsed": false
   },
   "outputs": [
    {
     "ename": "NameError",
     "evalue": "name 'dictStudent' is not defined",
     "output_type": "error",
     "traceback": [
      "\u001b[0;31m---------------------------------------------------------------------------\u001b[0m",
      "\u001b[0;31mNameError\u001b[0m                                 Traceback (most recent call last)",
      "\u001b[0;32m<ipython-input-29-7e20228d6428>\u001b[0m in \u001b[0;36m<module>\u001b[0;34m()\u001b[0m\n\u001b[1;32m      5\u001b[0m \u001b[1;31m#şeklinde silebiliriz.\u001b[0m\u001b[1;33m\u001b[0m\u001b[1;33m\u001b[0m\u001b[0m\n\u001b[1;32m      6\u001b[0m \u001b[1;33m\u001b[0m\u001b[0m\n\u001b[0;32m----> 7\u001b[0;31m \u001b[0mprint\u001b[0m\u001b[1;33m(\u001b[0m\u001b[0mdictStudent\u001b[0m\u001b[1;33m)\u001b[0m\u001b[1;33m\u001b[0m\u001b[0m\n\u001b[0m",
      "\u001b[0;31mNameError\u001b[0m: name 'dictStudent' is not defined"
     ]
    }
   ],
   "source": [
    "#Dictionary i bellekten atmak, silmek istiyorsak;\n",
    "\n",
    "del dictStudent;\n",
    "\n",
    "#şeklinde silebiliriz.\n",
    "\n",
    "print(dictStudent)"
   ]
  },
  {
   "cell_type": "code",
   "execution_count": 32,
   "metadata": {
    "collapsed": false
   },
   "outputs": [
    {
     "name": "stdout",
     "output_type": "stream",
     "text": [
      "Öğrenci adı: {'name': 'Yusuf', 'surname': 'Harmansa', 'age': 20}\n"
     ]
    }
   ],
   "source": [
    "#Tanımlama esnasına dönersek;\n",
    "\n",
    "dictStudent = {'name' : 'Bilal Ekrem', 'surname':'Harmansa',\"age\":20, \"name\":'Yusuf'}\n",
    "\n",
    "#İkinci yaptığımız name elemanını sanki Bilal Ekrem i Bilal e güncelliyormuş gibi algılayacak.\n",
    "\n",
    "print (\"Öğrenci adı:\",dictStudent)"
   ]
  },
  {
   "cell_type": "code",
   "execution_count": 35,
   "metadata": {
    "collapsed": false
   },
   "outputs": [
    {
     "name": "stdout",
     "output_type": "stream",
     "text": [
      "{'name': 'Yusuf', 'surname': 'Harmansa', 'age': 20, 10: 'on', 'list': ['list', '1', 2, 3, 4]}\n"
     ]
    }
   ],
   "source": [
    "#Anahtar ifadeler olarak stringler, sayılar ve tupple lar kullanılabilir(immutable). Bunun harici ifadeler sakıncıları, örnek \n",
    "#olarak;\n",
    "\n",
    "\n",
    "\n",
    "dictStudent[\"list\"] = ['list',\"1\",2,3,4]\n",
    "print(dictStudent)\n",
    "\n",
    "\n",
    "\n",
    "#Burdaki test2 ve test 3 sakıncalı kulllanım oluyor."
   ]
  },
  {
   "cell_type": "code",
   "execution_count": 36,
   "metadata": {
    "collapsed": false
   },
   "outputs": [
    {
     "ename": "TypeError",
     "evalue": "unhashable type: 'list'",
     "output_type": "error",
     "traceback": [
      "\u001b[0;31m---------------------------------------------------------------------------\u001b[0m",
      "\u001b[0;31mTypeError\u001b[0m                                 Traceback (most recent call last)",
      "\u001b[0;32m<ipython-input-36-11df755c91cb>\u001b[0m in \u001b[0;36m<module>\u001b[0;34m()\u001b[0m\n\u001b[0;32m----> 1\u001b[0;31m \u001b[0mdictStudent\u001b[0m \u001b[1;33m=\u001b[0m \u001b[1;33m{\u001b[0m\u001b[1;34m'name'\u001b[0m \u001b[1;33m:\u001b[0m \u001b[1;34m'Bilal Ekrem'\u001b[0m\u001b[1;33m,\u001b[0m \u001b[1;34m'surname'\u001b[0m\u001b[1;33m:\u001b[0m\u001b[1;34m'Harmansa'\u001b[0m\u001b[1;33m,\u001b[0m\u001b[1;34m\"age\"\u001b[0m\u001b[1;33m:\u001b[0m\u001b[1;36m20\u001b[0m\u001b[1;33m,\u001b[0m \u001b[1;33m[\u001b[0m\u001b[1;34m'test3'\u001b[0m\u001b[1;33m]\u001b[0m\u001b[1;33m:\u001b[0m\u001b[1;34m\"test3\"\u001b[0m\u001b[1;33m}\u001b[0m\u001b[1;33m\u001b[0m\u001b[0m\n\u001b[0m",
      "\u001b[0;31mTypeError\u001b[0m: unhashable type: 'list'"
     ]
    }
   ],
   "source": [
    "dictStudent = {'name' : 'Bilal Ekrem', 'surname':'Harmansa',\"age\":20, ['test3']:\"test3\"}"
   ]
  },
  {
   "cell_type": "code",
   "execution_count": 33,
   "metadata": {
    "collapsed": false
   },
   "outputs": [
    {
     "name": "stdout",
     "output_type": "stream",
     "text": [
      "{'name': 'Yusuf', 'surname': 'Harmansa', 'age': 20, 10: 'on'}\n"
     ]
    }
   ],
   "source": [
    "dictStudent[10] = \"on\"\n",
    "print(dictStudent)"
   ]
  },
  {
   "cell_type": "code",
   "execution_count": 12,
   "metadata": {
    "collapsed": false
   },
   "outputs": [],
   "source": [
    "#Dictionary işlemler\n"
   ]
  },
  {
   "cell_type": "code",
   "execution_count": 8,
   "metadata": {
    "collapsed": false
   },
   "outputs": [
    {
     "name": "stdout",
     "output_type": "stream",
     "text": [
      "Bilal5\n"
     ]
    }
   ],
   "source": [
    "#len(dic), içine parametre olarak aldığı dictionary nin eleman sayısını döndürür.\n",
    "\n",
    "dictStudent = {'name' : 'Bilal' + str(5), 'surname':'Harmansa',\"age\":20}\n",
    "\n",
    "len(dictStudent)\n",
    "print(dictStudent['name'])"
   ]
  },
  {
   "cell_type": "code",
   "execution_count": 14,
   "metadata": {
    "collapsed": false
   },
   "outputs": [
    {
     "name": "stdout",
     "output_type": "stream",
     "text": [
      "name :  True\n",
      "Name :  False\n"
     ]
    }
   ],
   "source": [
    "\n",
    "#key in d , bu kullanım eğer dic içerisinde key olarak geçilen anahtar var ise true, yok ise false döndürür.\n",
    "\n",
    "print (\"name : \",\"name\" in dictStudent)\n",
    "print (\"Name : \",\"Name\" in dictStudent)"
   ]
  },
  {
   "cell_type": "code",
   "execution_count": 37,
   "metadata": {
    "collapsed": false
   },
   "outputs": [
    {
     "name": "stdout",
     "output_type": "stream",
     "text": [
      "{'name': 'Yusuf', 'surname': 'Harmansa', 'age': 20, 10: 'on', 'list': ['list', '1', 2, 3, 4]}\n",
      "dictStudent Name : Bilal\n",
      "dictIki Name : Yusuf\n"
     ]
    }
   ],
   "source": [
    "#copy(), dictonary nin bir kopyasını return eder.\n",
    "\n",
    "dictIki = dictStudent.copy()\n",
    "\n",
    "print(dictIki)\n",
    "\n",
    "dictStudent['name'] = \"Bilal\"\n",
    "\n",
    "print (\"dictStudent Name :\" ,dictStudent['name'])\n",
    "\n",
    "print (\"dictIki Name :\" ,dictIki['name'])"
   ]
  },
  {
   "cell_type": "code",
   "execution_count": 41,
   "metadata": {
    "collapsed": false
   },
   "outputs": [
    {
     "name": "stdout",
     "output_type": "stream",
     "text": [
      "get() -  Bilal\n",
      "{'name': 'Bilal', 'surname': 'Harmansa', 'age': 20, 10: 'on', 'list': ['list', '1', 2, 3, 4]}\n",
      "get() -  15\n",
      "{'name': 'Bilal', 'surname': 'Harmansa', 'age': 20, 10: 'on', 'list': ['list', '1', 2, 3, 4]}\n"
     ]
    }
   ],
   "source": [
    "#.get(key, keyIfNotExist = ?), bu metod dictionary içinde verilen key e göre arama yapar. Aranan key bulunursa geriye, key e \n",
    "#karşılık gelen degeri dondurur. Bulunumaz ise ? degerini dondurur.\n",
    "\n",
    "print (\"get() - \",   dictStudent.get(\"name\",\"Bulunamadı\")   )\n",
    "\n",
    "print(dictStudent)\n",
    "\n",
    "print (\"get() - \",dictStudent.get(\"isim\",\"Bulunamadı!\"))\n",
    "\n",
    "print(dictStudent)\n"
   ]
  },
  {
   "cell_type": "code",
   "execution_count": 42,
   "metadata": {
    "collapsed": false
   },
   "outputs": [
    {
     "name": "stdout",
     "output_type": "stream",
     "text": [
      "setdefault() -  Bilal\n",
      "{'name': 'Bilal', 'surname': 'Harmansa', 'age': 20, 10: 'on', 'list': ['list', '1', 2, 3, 4]}\n",
      "setdefault() -  Bulunamadı\n",
      "{'name': 'Bilal', 'surname': 'Harmansa', 'age': 20, 10: 'on', 'list': ['list', '1', 2, 3, 4], 'isim': 'Bulunamadı'}\n"
     ]
    }
   ],
   "source": [
    "#setDefault() get e benzer. Tek farkı get in default kısmında aranan key yok ise default çalışırken. setDefualt ta aranan key\n",
    "#bulunamadığında geriye default taki degeri döndürür. Onun haricinde ikisindede aranan key bulunursa, o keye ait degeri dondurur.\n",
    "\n",
    "print(\"setdefault() - \",(dictStudent.setdefault(\"name\",\"Bulunamadı\")))\n",
    "print(dictStudent)\n",
    "print(\"setdefault() - \",dictStudent.setdefault(\"isim\",\"Bulunamadı\"))\n",
    "print(dictStudent)"
   ]
  },
  {
   "cell_type": "code",
   "execution_count": 43,
   "metadata": {
    "collapsed": false
   },
   "outputs": [
    {
     "name": "stdout",
     "output_type": "stream",
     "text": [
      "Elemanlar: dict_items([('name', 'Bilal'), ('surname', 'Harmansa'), ('age', 20), (10, 'on'), ('list', ['list', '1', 2, 3, 4]), ('isim', 'Bulunamadı')])\n"
     ]
    }
   ],
   "source": [
    "#items() dictionary içindeki elemanları key-value çifti olacak şekilde geriye liste döndürür.\n",
    "\n",
    "listItems = dictStudent.items()\n",
    "print(\"Elemanlar:\", listItems)\n",
    "\n"
   ]
  },
  {
   "cell_type": "code",
   "execution_count": 44,
   "metadata": {
    "collapsed": false,
    "scrolled": true
   },
   "outputs": [
    {
     "name": "stdout",
     "output_type": "stream",
     "text": [
      "Key-Anahtar: dict_keys(['name', 'surname', 'age', 10, 'list', 'isim'])\n"
     ]
    }
   ],
   "source": [
    "#keys() dictionary nin anahtar-key degerlerini liste olarak döndürür.\n",
    "\n",
    "listKeys = dictStudent.keys()\n",
    "print(\"Key-Anahtar:\",listKeys)\n",
    "\n"
   ]
  },
  {
   "cell_type": "code",
   "execution_count": 45,
   "metadata": {
    "collapsed": false
   },
   "outputs": [
    {
     "name": "stdout",
     "output_type": "stream",
     "text": [
      "Value-Deger: dict_values(['Bilal', 'Harmansa', 20, 'on', ['list', '1', 2, 3, 4], 'Bulunamadı'])\n"
     ]
    }
   ],
   "source": [
    "#values() dictionary nin deger-value degerlerini liste olarak döndürür.\n",
    "\n",
    "listValues = dictStudent.values()\n",
    "print(\"Value-Deger:\",listValues)"
   ]
  },
  {
   "cell_type": "code",
   "execution_count": 47,
   "metadata": {
    "collapsed": false
   },
   "outputs": [
    {
     "name": "stdout",
     "output_type": "stream",
     "text": [
      "dict1 :  dict_items([('name', 'salim'), ('age', 15), ('surname', 'harmansa')])\n"
     ]
    }
   ],
   "source": [
    "#update(dict2)\n",
    "\n",
    "dict1 = {\"name\":\"bilal\",\"age\":15}\n",
    "dict2 = {\"name\":\"salim\", \"surname\":\"harmansa\"}\n",
    "\n",
    "\n",
    "dict1.update(dict2)\n",
    "\n",
    "print (\"dict1 : \",dict1.items())"
   ]
  },
  {
   "cell_type": "code",
   "execution_count": 14,
   "metadata": {
    "collapsed": false
   },
   "outputs": [
    {
     "name": "stdout",
     "output_type": "stream",
     "text": [
      "{'isim': None, 'soyisim': None}\n",
      "{'isim': 'hello', 'soyisim': 'hello'}\n"
     ]
    }
   ],
   "source": [
    "#fromkeys() iki overloaded hali vardır. \n",
    "#fromkeys(keysList) fromkeys(keysList,value). \n",
    "\n",
    "#Tek paremetreli olanda keysList ten aldığı anahtar sözcüklere göre yeni bir dictionary oluşturur, default değer None dır. \n",
    "\n",
    "#Iki paramatreli olan ise bu oluşturulan yeni dictionary nin her elemanına atacağı değer belirlenir.\n",
    "\n",
    "list = (\"isim\",\"soyisim\")\n",
    "\n",
    "dict = dict.fromkeys(list)\n",
    "print(dict)\n",
    "\n",
    "dict = dict.fromkeys(list,\"hello\")\n",
    "print(dict)"
   ]
  },
  {
   "cell_type": "code",
   "execution_count": null,
   "metadata": {
    "collapsed": true
   },
   "outputs": [],
   "source": []
  }
 ],
 "metadata": {
  "kernelspec": {
   "display_name": "Python 3",
   "language": "python",
   "name": "python3"
  },
  "language_info": {
   "codemirror_mode": {
    "name": "ipython",
    "version": 3
   },
   "file_extension": ".py",
   "mimetype": "text/x-python",
   "name": "python",
   "nbconvert_exporter": "python",
   "pygments_lexer": "ipython3",
   "version": "3.6.0"
  }
 },
 "nbformat": 4,
 "nbformat_minor": 2
}

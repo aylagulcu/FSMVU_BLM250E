{
 "cells": [
  {
   "cell_type": "markdown",
   "metadata": {},
   "source": [
    "# ASSIGNMENT - ATAMA"
   ]
  },
  {
   "cell_type": "markdown",
   "metadata": {},
   "source": [
    "Python'da atama diger cogu dildeki gibi yapilir. Ornegin bir degisken olusturup icerisine integer sayi atayalim."
   ]
  },
  {
   "cell_type": "code",
   "execution_count": 14,
   "metadata": {
    "collapsed": false
   },
   "outputs": [],
   "source": [
    "x = 3"
   ]
  },
  {
   "cell_type": "markdown",
   "metadata": {},
   "source": [
    "Su anda degisken x ismindeki degiskenimize 3 degerini atamis olduk. Burada x'in 3'den once yazildigina dikkat edelim. Simdi de degiskenimizi yazdirarak atamanin yapilip yapilmadigini kontrol edelim."
   ]
  },
  {
   "cell_type": "code",
   "execution_count": 15,
   "metadata": {
    "collapsed": false
   },
   "outputs": [
    {
     "data": {
      "text/plain": [
       "3"
      ]
     },
     "execution_count": 15,
     "metadata": {},
     "output_type": "execute_result"
    }
   ],
   "source": [
    "x"
   ]
  },
  {
   "cell_type": "markdown",
   "metadata": {},
   "source": [
    "Gordugumuz uzere atama islemi basariyla gerceklesmis."
   ]
  },
  {
   "cell_type": "code",
   "execution_count": 16,
   "metadata": {
    "collapsed": true
   },
   "outputs": [],
   "source": [
    "y=[3,5,'a']"
   ]
  },
  {
   "cell_type": "code",
   "execution_count": 17,
   "metadata": {
    "collapsed": true
   },
   "outputs": [],
   "source": [
    "x=y"
   ]
  },
  {
   "cell_type": "code",
   "execution_count": 18,
   "metadata": {
    "collapsed": false
   },
   "outputs": [
    {
     "data": {
      "text/plain": [
       "[3, 5, 'a']"
      ]
     },
     "execution_count": 18,
     "metadata": {},
     "output_type": "execute_result"
    }
   ],
   "source": [
    "x"
   ]
  },
  {
   "cell_type": "markdown",
   "metadata": {},
   "source": [
    "Bu ornekte gordugumuz uzere sadece sabit sayilar ve karakterler degil, ayrica diziler de degiskenlere atanip tutulabilir. Atama islemi yine ayni sekilde yapilir. Ayrica degiskenlere atama yapilirken atananin yerine matematiksel islem de yazabiliriz."
   ]
  },
  {
   "cell_type": "code",
   "execution_count": 1,
   "metadata": {
    "collapsed": true
   },
   "outputs": [],
   "source": [
    "z=3+5"
   ]
  },
  {
   "cell_type": "code",
   "execution_count": 20,
   "metadata": {
    "collapsed": false
   },
   "outputs": [
    {
     "data": {
      "text/plain": [
       "8"
      ]
     },
     "execution_count": 20,
     "metadata": {},
     "output_type": "execute_result"
    }
   ],
   "source": [
    "z"
   ]
  },
  {
   "cell_type": "markdown",
   "metadata": {},
   "source": [
    "# EXPRESSIONS - IFADELER"
   ]
  },
  {
   "cell_type": "markdown",
   "metadata": {},
   "source": [
    "Python'da ifadeler syntax acisindan bir manasi olan ve deger donduren (?) kelimelere denir. Ornegin bir degeri, bir degiskene atarsak bu degeri degisken uzerinden ulasabiliriz."
   ]
  },
  {
   "cell_type": "code",
   "execution_count": 21,
   "metadata": {
    "collapsed": true
   },
   "outputs": [],
   "source": [
    "x=10"
   ]
  },
  {
   "cell_type": "markdown",
   "metadata": {},
   "source": [
    "Bu atama ile bir ifade olusturmus olduk. x burda bir expressiondir. Yani deger atadigimizda degisken isimleri birer ifadedir."
   ]
  },
  {
   "cell_type": "markdown",
   "metadata": {},
   "source": [
    "Statement ve Expression arasindaki fark nedir?? -->https://en.wikipedia.org/wiki/Statement_(computer_science)\n",
    "https://docs.oracle.com/javase/tutorial/java/nutsandbolts/expressions.html"
   ]
  },
  {
   "cell_type": "markdown",
   "metadata": {},
   "source": [
    "# TRUTH TESTS - DOGRULUK TESTLERI "
   ]
  },
  {
   "cell_type": "markdown",
   "metadata": {},
   "source": [
    "Python'da bir ifadenin dogrulugunu if veya while yapilari ile kontrol edebiliriz. https://pedantic-python.readme.io/docs/truth-value-testing"
   ]
  },
  {
   "cell_type": "code",
   "execution_count": 17,
   "metadata": {
    "collapsed": false
   },
   "outputs": [
    {
     "name": "stdout",
     "output_type": "stream",
     "text": [
      "x dogru\n",
      "x dogru\n",
      "t yanlis\n",
      "c dogru\n",
      "p yanlis\n"
     ]
    }
   ],
   "source": [
    "x=True\n",
    "t=[]\n",
    "c=-3\n",
    "p=0\n",
    "#en kotu\n",
    "if x is True:\n",
    "    print('x dogru')\n",
    "    \n",
    "#kotu\n",
    "if x == True:\n",
    "    print('x dogru')\n",
    "    \n",
    "#dogru\n",
    "if t:\n",
    "    print('t dogru')\n",
    "else:\n",
    "    print('t yanlis')\n",
    "    \n",
    "#dogru\n",
    "if c:\n",
    "    print('c dogru')\n",
    "    \n",
    "#dogru\n",
    "if not p:\n",
    "    print('p yanlis')\n"
   ]
  },
  {
   "cell_type": "markdown",
   "metadata": {},
   "source": [
    "Ayrica Python'da none, false, 0, bos diziler gibi ifadeler de false dondurur. Bunlar disindakiler true."
   ]
  },
  {
   "cell_type": "code",
   "execution_count": 18,
   "metadata": {
    "collapsed": false
   },
   "outputs": [
    {
     "name": "stdout",
     "output_type": "stream",
     "text": [
      "x dogru -while-\n"
     ]
    }
   ],
   "source": [
    "while x:\n",
    "    print ('x dogru -while-')\n",
    "    break"
   ]
  },
  {
   "cell_type": "markdown",
   "metadata": {},
   "source": [
    "Bu da while ile kontrol."
   ]
  },
  {
   "cell_type": "markdown",
   "metadata": {},
   "source": [
    "# WHILE LOOPS - IF STATEMENT"
   ]
  },
  {
   "cell_type": "markdown",
   "metadata": {},
   "source": [
    "Her dilde oldugu gibi Python'da da kontrol ve dongu yapilari vardir. Bunlardan birisi de WHILE dongusudur. While dongulerinin calisma prensibi, verilen sart dogru oldugu surece donmesidir."
   ]
  },
  {
   "cell_type": "code",
   "execution_count": 19,
   "metadata": {
    "collapsed": false
   },
   "outputs": [
    {
     "name": "stdout",
     "output_type": "stream",
     "text": [
      "0\n",
      "1\n",
      "2\n",
      "3\n",
      "4\n",
      "5\n"
     ]
    }
   ],
   "source": [
    "x=0\n",
    "while x<=5:\n",
    "    print (x)\n",
    "    x=x+1"
   ]
  },
  {
   "cell_type": "markdown",
   "metadata": {},
   "source": [
    "If statements, belirtilen durumun dogruluguna bakilarak islem yapan kontrol mekanizmasidir. Verilen sart dogruysa blogundaki kodu calistirir."
   ]
  },
  {
   "cell_type": "code",
   "execution_count": 21,
   "metadata": {
    "collapsed": false
   },
   "outputs": [
    {
     "name": "stdout",
     "output_type": "stream",
     "text": [
      "6\n",
      "x, sifira esit DEGILDIR\n"
     ]
    }
   ],
   "source": [
    "print(x)\n",
    "if x==0:\n",
    "    print('x, sifira esittir')\n",
    "    \n",
    "if x!=0:\n",
    "    print('x, sifira esit DEGILDIR')"
   ]
  },
  {
   "cell_type": "markdown",
   "metadata": {},
   "source": [
    "Bu kodu daha performansli yazabiliriz. Eger bir sayi 0'a esitse baska bir sayiya esit olamaz. Yani eger sayi sifira esitse ikinci if yapisina bakmak gereksizdir. Bu gereksizligi ortadan kaldiran iki tane yapi kullaniriz. ELSE-IF(elif) ve ELSE. Bu keywordler if olmadan, tek baslarina kullanilamaz."
   ]
  },
  {
   "cell_type": "code",
   "execution_count": 12,
   "metadata": {
    "collapsed": false
   },
   "outputs": [
    {
     "name": "stdout",
     "output_type": "stream",
     "text": [
      "x, sifira esit DEGILDIR\n"
     ]
    }
   ],
   "source": [
    "if x==0:\n",
    "    print('x, sifira esittir')\n",
    "    \n",
    "elif x!=0:\n",
    "    print('x, sifira esit DEGILDIR')"
   ]
  },
  {
   "cell_type": "markdown",
   "metadata": {},
   "source": [
    "Eger ilk if yapisi dogruysa ikinciye bakilmaz, atlanir. Fakat ikincisi dogruysa ilkine bakilir. Yani if yapisinda kontrol en bastan baslar ve sirayla gider, dogruyu buldugu yerde sona atlar. Direk dogru cevaba bakan yapi da vardir. O yapi ise switch-case yapisidir fakat suan konumuzun disi."
   ]
  },
  {
   "cell_type": "code",
   "execution_count": 22,
   "metadata": {
    "collapsed": false
   },
   "outputs": [
    {
     "name": "stdout",
     "output_type": "stream",
     "text": [
      "else calisti\n"
     ]
    }
   ],
   "source": [
    "if x==1:\n",
    "    print('x, sifira esittir')\n",
    "    \n",
    "elif x==2:\n",
    "    print('x, sifira esit DEGILDIR')\n",
    "    \n",
    "else:\n",
    "    print('else calisti')"
   ]
  },
  {
   "cell_type": "markdown",
   "metadata": {},
   "source": [
    "ELSE, eger hicbir if ve else if statementta bulunan durumlar dogru degilse calisir. Yani bu kodda sirayla, x 1 midir, x 2 midir diye bakilir ve ikisi de dogru degilse else blogu calisir. Python'da ELSE dongulerde de kullanilir. If yapisindaki elseden farkli olarak dongu sarti false dondurdugunde calisirlar."
   ]
  },
  {
   "cell_type": "code",
   "execution_count": 30,
   "metadata": {
    "collapsed": false
   },
   "outputs": [
    {
     "name": "stdout",
     "output_type": "stream",
     "text": [
      "sifirdan dorde kadar saydim\n"
     ]
    }
   ],
   "source": [
    "x=10\n",
    "while x<5:\n",
    "    print (x)\n",
    "    x=x+1\n",
    "    if x==3:\n",
    "        break\n",
    "else:\n",
    "    print('sifirdan dorde kadar saydim')"
   ]
  },
  {
   "cell_type": "markdown",
   "metadata": {},
   "source": [
    "# BREAK - CONTINUE - PASS "
   ]
  },
  {
   "cell_type": "markdown",
   "metadata": {},
   "source": [
    "Bu keywordler dongu ve kontrol yapilarini kontrol etmek icin yapilarin icinde kullanilirlar. Break, yapiyi yarida kesip sonlandirir."
   ]
  },
  {
   "cell_type": "code",
   "execution_count": 2,
   "metadata": {
    "collapsed": false
   },
   "outputs": [
    {
     "name": "stdout",
     "output_type": "stream",
     "text": [
      "0\n",
      "1\n",
      "2\n",
      "3\n",
      "4\n",
      "5\n"
     ]
    }
   ],
   "source": [
    "x=0\n",
    "while x<=10:\n",
    "    print(x)\n",
    "    x=x+1\n",
    "    if x==6:\n",
    "        break"
   ]
  },
  {
   "cell_type": "markdown",
   "metadata": {},
   "source": [
    "Continue, sadece mevcut adim icin, alt satirinda bulunan kodlari atlar. Yani sadece o adimi atlar ve devam eder."
   ]
  },
  {
   "cell_type": "code",
   "execution_count": 32,
   "metadata": {
    "collapsed": false
   },
   "outputs": [
    {
     "name": "stdout",
     "output_type": "stream",
     "text": [
      "1\n",
      "2\n",
      "3\n",
      "4\n",
      "5\n",
      "7\n",
      "8\n",
      "9\n",
      "10\n",
      "11\n"
     ]
    }
   ],
   "source": [
    "x=0\n",
    "while x<=10:\n",
    "    x=x+1\n",
    "    if x==6:\n",
    "        continue\n",
    "    print(x)\n",
    "    "
   ]
  },
  {
   "cell_type": "markdown",
   "metadata": {
    "collapsed": true
   },
   "source": [
    "Son olarak pass yapisi ise hicbir sey yapmaz. Sadece boslugu doldurur. Ornegin kodu gelistirme asamasindasiniz ve bir fonksiyon veya dongu yazicaksiniz. Yazacaginiz kesin fakat henuz icine ne yazacaginizi bilmiyorsunuz veya kara vermediniz. Dongu ve fonksiyonlar bos birakilamayacagi icin pass keywordu o boslugu doldurmasi icin kullanilir."
   ]
  },
  {
   "cell_type": "code",
   "execution_count": 36,
   "metadata": {
    "collapsed": false
   },
   "outputs": [
    {
     "ename": "IndentationError",
     "evalue": "expected an indented block (<ipython-input-36-c045b1ecbc67>, line 5)",
     "output_type": "error",
     "traceback": [
      "\u001b[0;36m  File \u001b[0;32m\"<ipython-input-36-c045b1ecbc67>\"\u001b[0;36m, line \u001b[0;32m5\u001b[0m\n\u001b[0;31m    print(x)\u001b[0m\n\u001b[0m        ^\u001b[0m\n\u001b[0;31mIndentationError\u001b[0m\u001b[0;31m:\u001b[0m expected an indented block\n"
     ]
    }
   ],
   "source": [
    "x=0\n",
    "while x<10:\n",
    "    x=x+1\n",
    "    if x==6:\n",
    "        pass\n",
    "    print(x)"
   ]
  },
  {
   "cell_type": "code",
   "execution_count": 13,
   "metadata": {
    "collapsed": false
   },
   "outputs": [
    {
     "ename": "SyntaxError",
     "evalue": "unexpected EOF while parsing (<ipython-input-13-f312363411d4>, line 2)",
     "output_type": "error",
     "traceback": [
      "\u001b[0;36m  File \u001b[0;32m\"<ipython-input-13-f312363411d4>\"\u001b[0;36m, line \u001b[0;32m2\u001b[0m\n\u001b[0;31m    while True:\u001b[0m\n\u001b[0m               ^\u001b[0m\n\u001b[0;31mSyntaxError\u001b[0m\u001b[0;31m:\u001b[0m unexpected EOF while parsing\n"
     ]
    }
   ],
   "source": [
    "#taslak\n",
    "while True:"
   ]
  },
  {
   "cell_type": "code",
   "execution_count": null,
   "metadata": {
    "collapsed": true
   },
   "outputs": [],
   "source": [
    "#taslak\n",
    "while True:\n",
    "    pass"
   ]
  },
  {
   "cell_type": "code",
   "execution_count": null,
   "metadata": {
    "collapsed": true
   },
   "outputs": [],
   "source": []
  }
 ],
 "metadata": {
  "kernelspec": {
   "display_name": "Python 3",
   "language": "python",
   "name": "python3"
  },
  "language_info": {
   "codemirror_mode": {
    "name": "ipython",
    "version": 3
   },
   "file_extension": ".py",
   "mimetype": "text/x-python",
   "name": "python",
   "nbconvert_exporter": "python",
   "pygments_lexer": "ipython3",
   "version": "3.6.0"
  }
 },
 "nbformat": 4,
 "nbformat_minor": 2
}

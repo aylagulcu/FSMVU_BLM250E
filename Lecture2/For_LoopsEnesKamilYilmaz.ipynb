{
 "cells": [
  {
   "cell_type": "markdown",
   "metadata": {},
   "source": [
    "# For Döngüsü"
   ]
  },
  {
   "cell_type": "code",
   "execution_count": null,
   "metadata": {
    "collapsed": true
   },
   "outputs": [],
   "source": [
    "#For döngülerinin syntaxı şu şekildedir:\n",
    "for değişken_adı in değişken:\n",
    "    yapılacak_işlem"
   ]
  },
  {
   "cell_type": "code",
   "execution_count": 1,
   "metadata": {
    "collapsed": false
   },
   "outputs": [
    {
     "name": "stdout",
     "output_type": "stream",
     "text": [
      "a\n",
      "b\n",
      "c\n",
      "d\n",
      "e\n",
      "f\n"
     ]
    }
   ],
   "source": [
    "#Başlangıç olarak bir dizinin elemanlarını yazdırmayı inceleyelim\n",
    "harfler = [\"a\",\"b\",\"c\",\"d\",\"e\",\"f\"]\n",
    "for x in harfler: #Burda yaptığımız işlem aslında harfler dizisinin\n",
    "                  #herbir elemanını x olarak adlandırdık.\n",
    "    print(x)       "
   ]
  },
  {
   "cell_type": "code",
   "execution_count": 2,
   "metadata": {
    "collapsed": false
   },
   "outputs": [
    {
     "name": "stdout",
     "output_type": "stream",
     "text": [
      "H\n",
      "e\n",
      "l\n",
      "l\n",
      "o\n",
      " \n",
      "W\n",
      "o\n",
      "r\n",
      "l\n",
      "d\n"
     ]
    }
   ],
   "source": [
    "#Karakter dizileri(String) üzerinde döngü kurulabilecek veri tipidir.\n",
    "#Bir stringin karakterlerini yazdıralım.\n",
    "string = \"Hello World\"\n",
    "for t in string:\n",
    "    print (t)"
   ]
  },
  {
   "cell_type": "code",
   "execution_count": 21,
   "metadata": {
    "collapsed": false
   },
   "outputs": [
    {
     "ename": "TypeError",
     "evalue": "'int' object is not iterable",
     "output_type": "error",
     "traceback": [
      "\u001b[0;31m---------------------------------------------------------------------------\u001b[0m",
      "\u001b[0;31mTypeError\u001b[0m                                 Traceback (most recent call last)",
      "\u001b[0;32m<ipython-input-21-a2d2c13613af>\u001b[0m in \u001b[0;36m<module>\u001b[0;34m()\u001b[0m\n\u001b[1;32m      1\u001b[0m \u001b[1;31m#Ama sayılar öyle değildir. Yani sayılar üzerinde döngü kuramayız.\u001b[0m\u001b[1;33m\u001b[0m\u001b[1;33m\u001b[0m\u001b[0m\n\u001b[1;32m      2\u001b[0m \u001b[0msayılar\u001b[0m \u001b[1;33m=\u001b[0m \u001b[1;36m123456789\u001b[0m\u001b[1;33m\u001b[0m\u001b[0m\n\u001b[0;32m----> 3\u001b[0;31m \u001b[1;32mfor\u001b[0m \u001b[0msayı\u001b[0m \u001b[1;32min\u001b[0m \u001b[0msayılar\u001b[0m\u001b[1;33m:\u001b[0m\u001b[1;33m\u001b[0m\u001b[0m\n\u001b[0m\u001b[1;32m      4\u001b[0m      \u001b[0mprint\u001b[0m\u001b[1;33m(\u001b[0m\u001b[0msayı\u001b[0m\u001b[1;33m)\u001b[0m\u001b[1;33m\u001b[0m\u001b[0m\n",
      "\u001b[0;31mTypeError\u001b[0m: 'int' object is not iterable"
     ]
    }
   ],
   "source": [
    "#Ama sayılar öyle değildir. Yani sayılar üzerinde döngü kuramayız.\n",
    "sayılar = 123456789\n",
    "for sayı in sayılar:\n",
    "     print(sayı)        "
   ]
  },
  {
   "cell_type": "code",
   "execution_count": null,
   "metadata": {
    "collapsed": true
   },
   "outputs": [],
   "source": [
    "#Buradaki hata mesajından da göreceğiniz gibi int (tam sayı) türündeki nesneler üzerinde döngü kuramıyoruz.\n",
    "#Hata mesajında görünen not iterable (üzerinde döngü kurulamaz) ifadesiyle kastedilen de budur."
   ]
  },
  {
   "cell_type": "code",
   "execution_count": 22,
   "metadata": {
    "collapsed": false
   },
   "outputs": [
    {
     "name": "stdout",
     "output_type": "stream",
     "text": [
      "2\n",
      "4\n",
      "6\n",
      "8\n",
      "10\n",
      "12\n",
      "14\n",
      "16\n",
      "18\n"
     ]
    }
   ],
   "source": [
    "sayılar = \"123456789\"\n",
    "\n",
    "for sayı in sayılar:\n",
    "    print(int(sayı) * 2)\n",
    "#Burada sayılar adlı değişkenin herbir öğesini sayı olarak adlandırdıktan sonra\n",
    "#int() fonksiyonu yardımıyla bu öğeleri tek tek integera çevirdik ve herbir öğeyi 2 ile çarptık.    "
   ]
  },
  {
   "cell_type": "code",
   "execution_count": 4,
   "metadata": {
    "collapsed": false
   },
   "outputs": [
    {
     "data": {
      "text/plain": [
       "False"
      ]
     },
     "execution_count": 4,
     "metadata": {},
     "output_type": "execute_result"
    }
   ],
   "source": [
    "# For döngüsünün içindeki 'in' ifadesi için konuşacak olursak,\n",
    "#'in' ifadesi bir öğenin bir veri tipi içinde bulunup bulunmadığını sorgular ve boolean sonuç verir.\n",
    "a = \"fsmvu\"\n",
    "\"e\" in a "
   ]
  },
  {
   "cell_type": "code",
   "execution_count": 13,
   "metadata": {
    "collapsed": false
   },
   "outputs": [
    {
     "name": "stdout",
     "output_type": "stream",
     "text": [
      "Hello!0\n",
      "Hello!1\n",
      "Hello!2\n"
     ]
    }
   ],
   "source": [
    "#For döngüleri genelde belli kodları birden çok kez çalıştırmak için kullanılır.\n",
    "#Bunun için range fonksiyonunu kullanırız.\n",
    "for i in range(3): # range(0,3) == range(3)\n",
    "    print(\"Hello!\"+str(i))\n",
    "    "
   ]
  },
  {
   "cell_type": "code",
   "execution_count": 12,
   "metadata": {
    "collapsed": false
   },
   "outputs": [
    {
     "name": "stdout",
     "output_type": "stream",
     "text": [
      "[0, 1, 2, 3, 4]\n"
     ]
    },
    {
     "data": {
      "text/plain": [
       "list"
      ]
     },
     "execution_count": 12,
     "metadata": {},
     "output_type": "execute_result"
    }
   ],
   "source": [
    "a=[]\n",
    "a=list(range(5))\n",
    "print(a)\n",
    "type(a)"
   ]
  },
  {
   "cell_type": "code",
   "execution_count": 6,
   "metadata": {
    "collapsed": false
   },
   "outputs": [
    {
     "name": "stdout",
     "output_type": "stream",
     "text": [
      "10\n",
      "11\n",
      "12\n",
      "13\n",
      "14\n",
      "15\n",
      "16\n",
      "17\n",
      "18\n",
      "19\n",
      "20\n",
      "21\n",
      "22\n",
      "23\n",
      "24\n",
      "25\n",
      "26\n",
      "27\n",
      "28\n",
      "29\n",
      "30\n",
      "31\n"
     ]
    }
   ],
   "source": [
    "# 10 ile 32 arasındaki sayıları yazdıralım ve 32nin sonuca dahil olmadığına dikkat edelim.\n",
    "for k in range(10,32): \n",
    "    print(k)"
   ]
  },
  {
   "cell_type": "code",
   "execution_count": 15,
   "metadata": {
    "collapsed": false
   },
   "outputs": [
    {
     "name": "stdout",
     "output_type": "stream",
     "text": [
      "0\n",
      "1\n",
      "2\n",
      "3\n",
      "4\n"
     ]
    }
   ],
   "source": [
    "#İlk değerimiz 0 olacaksa, bu değeri belirtmesek de olur.\n",
    "for y in range(0,5):\n",
    "    print (y)"
   ]
  },
  {
   "cell_type": "code",
   "execution_count": 19,
   "metadata": {
    "collapsed": false
   },
   "outputs": [
    {
     "name": "stdout",
     "output_type": "stream",
     "text": [
      "0\n",
      "4\n",
      "8\n"
     ]
    }
   ],
   "source": [
    "#range fonksiyonunda parametrelerin sıralanışı aslında range(ilk_sayı, son_sayı, atlama_değeri) şeklindedir diyebiliriz. \n",
    "#Formüldeki son parametre olan atlama_değeri, aralıktaki sayıların kaçar kaçar ilerleyeceğini gösterir.\n",
    "\n",
    "#0 ile 10 arasındaki çift sayıları yazdıralım.\n",
    "for m in range(0,10,4):\n",
    "    print(m) \n",
    "#Eğer ilk parametremiz 0 olduğu için belirtmeyip range(10,2) yazsaydık Python bu durumda sizin \n",
    "#10‘dan 2‘ye kadar olan sayılarılistelemek istediğinizi zannedecek,\n",
    "#range() fonksiyonuyla bu şekilde geriye doğru sayamayacağımız için de boş bir çıktı verecektir.\n",
    "#Kısacası, eğer range() fonksiyonunun kaçar kaçar sayacağını da belirtmek istiyorsak, parantez içinde, gerekli bütün parametreleri belirtmeliyiz."
   ]
  },
  {
   "cell_type": "code",
   "execution_count": 24,
   "metadata": {
    "collapsed": false
   },
   "outputs": [
    {
     "name": "stdout",
     "output_type": "stream",
     "text": [
      "[1, 2, 3]\n",
      "1\n",
      "2\n",
      "3\n",
      "[4, 5, 6]\n",
      "4\n",
      "5\n",
      "6\n",
      "[7, 8, 9]\n",
      "7\n",
      "8\n",
      "9\n"
     ]
    }
   ],
   "source": [
    "#Son olarakta içiçe for döngüsünü inceleyelim.\n",
    "list_of_lists = [ [1, 2, 3], [4, 5, 6], [7, 8, 9]]\n",
    "for list in list_of_lists:    #Dizileri yazdırır\n",
    "    print (list)\n",
    "    for x in list:          #Dizilerin elemanlarını yazdırır\n",
    "        print(x)\n",
    "    "
   ]
  },
  {
   "cell_type": "code",
   "execution_count": null,
   "metadata": {
    "collapsed": true
   },
   "outputs": [],
   "source": []
  }
 ],
 "metadata": {
  "kernelspec": {
   "display_name": "Python 3",
   "language": "python",
   "name": "python3"
  },
  "language_info": {
   "codemirror_mode": {
    "name": "ipython",
    "version": 3
   },
   "file_extension": ".py",
   "mimetype": "text/x-python",
   "name": "python",
   "nbconvert_exporter": "python",
   "pygments_lexer": "ipython3",
   "version": "3.6.0"
  }
 },
 "nbformat": 4,
 "nbformat_minor": 2
}

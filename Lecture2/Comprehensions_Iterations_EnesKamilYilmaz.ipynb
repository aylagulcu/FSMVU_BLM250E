{
 "cells": [
  {
   "cell_type": "markdown",
   "metadata": {},
   "source": [
    "# Comprehensions"
   ]
  },
  {
   "cell_type": "code",
   "execution_count": 1,
   "metadata": {
    "collapsed": true
   },
   "outputs": [],
   "source": [
    "#Türkçe karşılıkları anlama,kavrama ve idraktır.\n",
    "#Comprehensions, dizilerin diğer dizilerden oluşturulmasına izin veren yapılardır.\n",
    "a = [[1],[2],[3]]\n",
    "#Aklınıza bu tip bir yapı gelmiş olabilir ama yanlış düşünüyorsunuz.\n",
    "#Comprehensions yapısı dizi içinde dizi değil, dizi içinde dizi yapma olayıdır."
   ]
  },
  {
   "cell_type": "code",
   "execution_count": null,
   "metadata": {
    "collapsed": true
   },
   "outputs": [],
   "source": [
    "S = {x² : x in {0 ... 9}}\n",
    "V = (1, 2, 4, 8, ..., 2¹²)\n",
    "M = {x | x in S and x even}\n",
    "#Matematikte bu tip tanımlarla karşılaşmışsınızdır.\n",
    "#Comprehensions yapısı bu tanımları Python da yapmanızı mümkün kılar."
   ]
  },
  {
   "cell_type": "code",
   "execution_count": 4,
   "metadata": {
    "collapsed": false
   },
   "outputs": [
    {
     "name": "stdout",
     "output_type": "stream",
     "text": [
      "[0, 1, 4, 9, 16, 25, 36, 49, 64, 81]\n",
      "[1, 2, 4, 8, 16, 32, 64, 128, 256, 512, 1024, 2048, 4096]\n",
      "[0, 2, 8, 18, 32, 50, 72, 98, 128, 162]\n"
     ]
    }
   ],
   "source": [
    "#10'a kadar olan sayıların karelerini diziye aktaralım.\n",
    "S = [x**2 for x in range(10)]\n",
    "print(S)\n",
    "\n",
    "#2'nin 0'dan 13. kuvvetine kadar olan tüm değerlerini diziye aktaralım.\n",
    "V = [2**i for i in range(13)]\n",
    "print(V)\n",
    "\n",
    "#İlk örneğimizde elde ettiğimiz x değerlerinin karelerini diziye aktaralım.\n",
    "M = [x*2 for x in S] \n",
    "print(M)"
   ]
  },
  {
   "cell_type": "code",
   "execution_count": 5,
   "metadata": {
    "collapsed": false
   },
   "outputs": [
    {
     "name": "stdout",
     "output_type": "stream",
     "text": [
      "[0, 4, 16, 36, 64]\n"
     ]
    }
   ],
   "source": [
    "#For içinde if kullanalım.\n",
    "\n",
    "#x değerlerinden çift olanların karelerini alalım.\n",
    "K = [x for x in S if x % 2 == 0]\n",
    "print(K)"
   ]
  },
  {
   "cell_type": "code",
   "execution_count": 16,
   "metadata": {
    "collapsed": false
   },
   "outputs": [
    {
     "name": "stdout",
     "output_type": "stream",
     "text": [
      "[4, 6, 8, 10, 12, 14, 16, 18, 20, 22, 24, 26, 28, 30, 32, 34, 36, 38, 40, 42, 44, 46, 48, 6, 9, 12, 15, 18, 21, 24, 27, 30, 33, 36, 39, 42, 45, 48, 8, 12, 16, 20, 24, 28, 32, 36, 40, 44, 48]\n",
      "[2, 3, 5, 7, 11, 13, 17, 19, 23, 25, 29, 31, 35, 37, 41, 43, 47, 49]\n"
     ]
    }
   ],
   "source": [
    "#Dizi içinde, içiçe for kullanalım.\n",
    "\n",
    "#\n",
    "T = [j for i in range(2, 5) for j in range(i*2, 50, i)]\n",
    "print (T)\n",
    "\n",
    "#0 ile 50 arasında olup T dizisinde bulunmayan elemanları yazdıralım.\n",
    "P = [x for x in range(2, 50) if x not in T]\n",
    "print (P)"
   ]
  },
  {
   "cell_type": "code",
   "execution_count": 59,
   "metadata": {
    "collapsed": false
   },
   "outputs": [
    {
     "name": "stdout",
     "output_type": "stream",
     "text": [
      "['NASA,', \"Dünya'ya\", 'benzeyen', '7', 'yeni', 'gezegen', 'keşfetti']\n",
      "['NASA,', 'nasa,', 5]\n",
      "[\"DÜNYA'YA\", \"dünya'ya\", 8]\n",
      "['BENZEYEN', 'benzeyen', 8]\n",
      "['7', '7', 1]\n",
      "['YENI', 'yeni', 4]\n",
      "['GEZEGEN', 'gezegen', 7]\n",
      "['KEŞFETTI', 'keşfetti', 8]\n"
     ]
    }
   ],
   "source": [
    "#Elbette sadece sayılarda işe yarar diye bir kural yok. Stringlerde de kullanabiliriz.\n",
    "P = 'NASA, Dünya\\'ya benzeyen 7 yeni gezegen keşfetti'.split()\n",
    "print(P)\n",
    "\n",
    "S=[[t.upper(), t.lower(), len(t)] for t in P]\n",
    "for x in S:\n",
    "    print(x)"
   ]
  },
  {
   "cell_type": "markdown",
   "metadata": {
    "collapsed": true
   },
   "source": [
    "# Iteration"
   ]
  },
  {
   "cell_type": "code",
   "execution_count": 1,
   "metadata": {
    "collapsed": true
   },
   "outputs": [],
   "source": [
    "a = 5\n",
    "b = a    # After executing this line, a and b are now equal\n",
    "a = 3    # After executing this line, a and b are no longer equal"
   ]
  },
  {
   "cell_type": "code",
   "execution_count": 2,
   "metadata": {
    "collapsed": true
   },
   "outputs": [],
   "source": [
    "n = 5\n",
    "n = 3 * n + 1"
   ]
  },
  {
   "cell_type": "code",
   "execution_count": 3,
   "metadata": {
    "collapsed": true
   },
   "outputs": [],
   "source": [
    "runs_scored = 0\n",
    "...\n",
    "runs_scored = runs_scored + 1"
   ]
  },
  {
   "cell_type": "code",
   "execution_count": null,
   "metadata": {
    "collapsed": true
   },
   "outputs": [],
   "source": []
  }
 ],
 "metadata": {
  "kernelspec": {
   "display_name": "Python 3",
   "language": "python",
   "name": "python3"
  },
  "language_info": {
   "codemirror_mode": {
    "name": "ipython",
    "version": 3
   },
   "file_extension": ".py",
   "mimetype": "text/x-python",
   "name": "python",
   "nbconvert_exporter": "python",
   "pygments_lexer": "ipython3",
   "version": "3.6.0"
  }
 },
 "nbformat": 4,
 "nbformat_minor": 2
}

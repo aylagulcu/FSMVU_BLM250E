{
 "cells": [
  {
   "cell_type": "code",
   "execution_count": 1,
   "metadata": {
    "collapsed": true
   },
   "outputs": [],
   "source": [
    "#Tuples\n"
   ]
  },
  {
   "cell_type": "code",
   "execution_count": 2,
   "metadata": {
    "collapsed": true
   },
   "outputs": [],
   "source": [
    "#Aslında tuple lar listlere çok benziyor. Listlerden bazı farklılıkları var.\n",
    "#Bu farklılıklar, tuple lar, listlerin aksine değiştirilemezler ve listlerde\n",
    "#köşeli parantez kullanırken burda düz parantez kullanıyoruz.\n",
    "#Ayrıca dictionary lerin key kısımları mutable iken tuple lar immutable objelerdir."
   ]
  },
  {
   "cell_type": "code",
   "execution_count": 6,
   "metadata": {
    "collapsed": false
   },
   "outputs": [
    {
     "name": "stdout",
     "output_type": "stream",
     "text": [
      "tup:  ('math', 'chemist', 101, 201)\n",
      "tup2:  (1, 2, 3, 4, 5, 6, 7, 8, 9, 10)\n"
     ]
    }
   ],
   "source": [
    "#Bir tuple oluşturalım.\n",
    "\n",
    "tup = ('math','chemist',101,201)\n",
    "tup2 = (1,2,3,4,5,6,7,8,9,10)\n",
    "\n",
    "print (\"tup: \", tup)\n",
    "print(\"tup2: \",tup2)"
   ]
  },
  {
   "cell_type": "code",
   "execution_count": 4,
   "metadata": {
    "collapsed": false
   },
   "outputs": [
    {
     "name": "stdout",
     "output_type": "stream",
     "text": [
      "tup3:  ()\n"
     ]
    }
   ],
   "source": [
    "#Boş tuple oluşturmakta bir sakınca yok.\n",
    "\n",
    "tup3 =();\n",
    "print (\"tup3: \", tup3)"
   ]
  },
  {
   "cell_type": "code",
   "execution_count": 9,
   "metadata": {
    "collapsed": false
   },
   "outputs": [
    {
     "name": "stdout",
     "output_type": "stream",
     "text": [
      "tup3:  (1,)\n"
     ]
    }
   ],
   "source": [
    "#Tek elemanlı tuple oluşturmak!\n",
    "#Eğer tek elemanlı tuple oluşturacaksak, ilk elemandan sonra araya bir virgul\n",
    "#atmamız gerekir\n",
    "\n",
    "tup3 = (1,);\n",
    "\n",
    "print (\"tup3: \", tup3)\n",
    "\n",
    "#şeklinde, aksi taktirde tup3 bir int olarak gözükür."
   ]
  },
  {
   "cell_type": "code",
   "execution_count": 6,
   "metadata": {
    "collapsed": false
   },
   "outputs": [],
   "source": [
    "#tuple ların da indisleri 0 dan başlar ve sıralı bi şekilde devam eder."
   ]
  },
  {
   "cell_type": "code",
   "execution_count": 10,
   "metadata": {
    "collapsed": false
   },
   "outputs": [
    {
     "name": "stdout",
     "output_type": "stream",
     "text": [
      "tup2 --  4\n"
     ]
    }
   ],
   "source": [
    "#Tuple içindeki bir elemana ulaşmak. List ve dictionary yapılarında olduğu gibi\n",
    "#köşeli parantez ile indis veya belli bir aralığa ulaşabiliriz.\n",
    "\n",
    "#İndis bazlı;\n",
    "print (\"tup2 -- \", tup2[3])\n",
    "\n"
   ]
  },
  {
   "cell_type": "code",
   "execution_count": 11,
   "metadata": {
    "collapsed": false
   },
   "outputs": [
    {
     "ename": "TypeError",
     "evalue": "'tuple' object does not support item assignment",
     "output_type": "error",
     "traceback": [
      "\u001b[0;31m---------------------------------------------------------------------------\u001b[0m",
      "\u001b[0;31mTypeError\u001b[0m                                 Traceback (most recent call last)",
      "\u001b[0;32m<ipython-input-11-dbd1caee53ab>\u001b[0m in \u001b[0;36m<module>\u001b[0;34m()\u001b[0m\n\u001b[1;32m      2\u001b[0m \u001b[1;31m#Tuple içindeki bir elemanı değiştiremeyiz!\u001b[0m\u001b[1;33m\u001b[0m\u001b[1;33m\u001b[0m\u001b[0m\n\u001b[1;32m      3\u001b[0m \u001b[1;33m\u001b[0m\u001b[0m\n\u001b[0;32m----> 4\u001b[0;31m \u001b[0mtup2\u001b[0m\u001b[1;33m[\u001b[0m\u001b[1;36m0\u001b[0m\u001b[1;33m]\u001b[0m \u001b[1;33m=\u001b[0m \u001b[1;36m3\u001b[0m\u001b[1;33m;\u001b[0m \u001b[1;31m#bu satır error vericek.\u001b[0m\u001b[1;33m\u001b[0m\u001b[0m\n\u001b[0m\u001b[1;32m      5\u001b[0m \u001b[1;33m\u001b[0m\u001b[0m\n\u001b[1;32m      6\u001b[0m \u001b[1;31m#Tuple içinde eleman değiştirme gibi bir ihtiyacımız olduğunda, eldeki tuple ı\u001b[0m\u001b[1;33m\u001b[0m\u001b[1;33m\u001b[0m\u001b[0m\n",
      "\u001b[0;31mTypeError\u001b[0m: 'tuple' object does not support item assignment"
     ]
    }
   ],
   "source": [
    "#Tuple içinde bir eleman değiştirme.\n",
    "#Tuple içindeki bir elemanı değiştiremeyiz!\n",
    "\n",
    "tup2[0] = 3; #bu satır error vericek.\n",
    "\n",
    "#Tuple içinde eleman değiştirme gibi bir ihtiyacımız olduğunda, eldeki tuple ı\n",
    "#kullanarak yeni bir tuple oluşturarak işlem yapılabilir.\n"
   ]
  },
  {
   "cell_type": "code",
   "execution_count": 14,
   "metadata": {
    "collapsed": false
   },
   "outputs": [
    {
     "ename": "NameError",
     "evalue": "name 'tup4' is not defined",
     "output_type": "error",
     "traceback": [
      "\u001b[0;31m---------------------------------------------------------------------------\u001b[0m",
      "\u001b[0;31mNameError\u001b[0m                                 Traceback (most recent call last)",
      "\u001b[0;32m<ipython-input-14-6934475bdf99>\u001b[0m in \u001b[0;36m<module>\u001b[0;34m()\u001b[0m\n\u001b[1;32m      4\u001b[0m \u001b[1;33m\u001b[0m\u001b[0m\n\u001b[1;32m      5\u001b[0m \u001b[1;33m\u001b[0m\u001b[0m\n\u001b[0;32m----> 6\u001b[0;31m \u001b[0mprint\u001b[0m \u001b[1;33m(\u001b[0m\u001b[1;34m\"tup4: \"\u001b[0m\u001b[1;33m,\u001b[0m\u001b[0mtup4\u001b[0m\u001b[1;33m)\u001b[0m\u001b[1;33m\u001b[0m\u001b[0m\n\u001b[0m\u001b[1;32m      7\u001b[0m \u001b[1;33m\u001b[0m\u001b[0m\n\u001b[1;32m      8\u001b[0m \u001b[1;31m#print(tup4)\u001b[0m\u001b[1;33m\u001b[0m\u001b[1;33m\u001b[0m\u001b[0m\n",
      "\u001b[0;31mNameError\u001b[0m: name 'tup4' is not defined"
     ]
    }
   ],
   "source": [
    "#Tuple içinde eleman silme.\n",
    "#Aynı değiştirmede olduğu gibi tuple içinde bir elemanı silemeyiz. Tek \n",
    "#olası işlem tuple ı tamamen silmek olabilir.\n",
    "\n",
    "tup4 = ('test',1,2,'test2');\n",
    "print (\"tup4: \",tup4)\n",
    "del tup4;\n",
    "#print(tup4)\n",
    "\n",
    "#Üst tarafta bahsettiğimiz gibi, bir elemanı silmek istediğimiz zaman, o \n",
    "#elemandan önceki ve sonrakiler olmak üzere 2 tuple ı toplayarak yeni bir \n",
    "#tuple oluşturmakta bir sakınca yok.\n"
   ]
  },
  {
   "cell_type": "code",
   "execution_count": 10,
   "metadata": {
    "collapsed": true
   },
   "outputs": [],
   "source": [
    "#Tuple larla işlemler"
   ]
  },
  {
   "cell_type": "code",
   "execution_count": 16,
   "metadata": {
    "collapsed": false
   },
   "outputs": [
    {
     "name": "stdout",
     "output_type": "stream",
     "text": [
      "5\n"
     ]
    }
   ],
   "source": [
    "tup = (12,3,213,32,1);\n",
    "\n",
    "#len(tup) parametre olarak aldığı tuple ın eleman sayısını return eder.\n",
    "print(len(tup))"
   ]
  },
  {
   "cell_type": "code",
   "execution_count": 17,
   "metadata": {
    "collapsed": false
   },
   "outputs": [
    {
     "name": "stdout",
     "output_type": "stream",
     "text": [
      "tup1:  (1, 6, 7, 8)\n",
      "tup2:  (6, 7, 8)\n",
      "tup1:  (1, 6, 7, 8)\n"
     ]
    }
   ],
   "source": [
    "#İki tuple toplanabilir\n",
    "\n",
    "tup1 = (1,);\n",
    "\n",
    "tup2 = (6,7,8);\n",
    "\n",
    "tup1 = tup1 + tup2;\n",
    "\n",
    "print (\"tup1: \", tup1)\n",
    "print (\"tup2: \", tup2)\n",
    "print (\"tup1: \", tup1)"
   ]
  },
  {
   "cell_type": "code",
   "execution_count": 18,
   "metadata": {
    "collapsed": false
   },
   "outputs": [
    {
     "name": "stdout",
     "output_type": "stream",
     "text": [
      "tup:  ('FSM!', 'FSM!', 'FSM!')\n"
     ]
    }
   ],
   "source": [
    "#Tuple ın içini aynı elemanlarla doldurma. Tekrarlama.\n",
    "\n",
    "tup = ('FSM!',) * 3;\n",
    "\n",
    "print (\"tup: \", tup)"
   ]
  },
  {
   "cell_type": "code",
   "execution_count": 20,
   "metadata": {
    "collapsed": false
   },
   "outputs": [
    {
     "name": "stdout",
     "output_type": "stream",
     "text": [
      "('FSM!', 'FSM!')\n"
     ]
    }
   ],
   "source": [
    "print(tup[:2])"
   ]
  },
  {
   "cell_type": "code",
   "execution_count": 21,
   "metadata": {
    "collapsed": false
   },
   "outputs": [
    {
     "name": "stdout",
     "output_type": "stream",
     "text": [
      "(1, 2, 3, 4, 1, 2, 3, 4)\n"
     ]
    }
   ],
   "source": [
    "tup= (1,2,3,4) * 2\n",
    "print(tup)"
   ]
  },
  {
   "cell_type": "code",
   "execution_count": 24,
   "metadata": {
    "collapsed": false
   },
   "outputs": [
    {
     "name": "stdout",
     "output_type": "stream",
     "text": [
      "False\n"
     ]
    }
   ],
   "source": [
    "# a in tuple \n",
    "#dictionary den aşina olduğumuz bir kullanım, a da verilen değer tuple içinde\n",
    "#var mı yok mu diye bakar, var ise true, yok ise false return eder.\n",
    "\n",
    "print(5 in tup)"
   ]
  },
  {
   "cell_type": "code",
   "execution_count": 25,
   "metadata": {
    "collapsed": false
   },
   "outputs": [],
   "source": [
    "#index yapısı tuple larda farklı, bunu örneklerle görelim\n",
    "\n",
    "tup = ('bir', 'iki', 'uc','dort');"
   ]
  },
  {
   "cell_type": "code",
   "execution_count": 16,
   "metadata": {
    "collapsed": false
   },
   "outputs": [
    {
     "name": "stdout",
     "output_type": "stream",
     "text": [
      "tup[0] -  bir\n"
     ]
    }
   ],
   "source": [
    "#tup[0]\n",
    "print(\"tup[0] - \",tup[0])"
   ]
  },
  {
   "cell_type": "code",
   "execution_count": 17,
   "metadata": {
    "collapsed": false
   },
   "outputs": [
    {
     "name": "stdout",
     "output_type": "stream",
     "text": [
      "tup[1] -  iki\n"
     ]
    }
   ],
   "source": [
    "#tup[1]\n",
    "print(\"tup[1] - \",tup[1])"
   ]
  },
  {
   "cell_type": "code",
   "execution_count": 18,
   "metadata": {
    "collapsed": false
   },
   "outputs": [
    {
     "name": "stdout",
     "output_type": "stream",
     "text": [
      "tup[1] -  iki\n",
      "tup[1:3] -  ('iki', 'uc')\n"
     ]
    }
   ],
   "source": [
    "#tup[1:] veya tup[1:3] 1 den sona kadar veya 1 dahil, 3 e kadar\n",
    "print(\"tup[1] - \",tup[1])\n",
    "\n",
    "print(\"tup[1:3] - \",tup[1:3])"
   ]
  },
  {
   "cell_type": "code",
   "execution_count": 19,
   "metadata": {
    "collapsed": false
   },
   "outputs": [
    {
     "name": "stdout",
     "output_type": "stream",
     "text": [
      "tup[-1] -  dort\n"
     ]
    }
   ],
   "source": [
    "#tup[-1] -1.ci indis. \n",
    "print(\"tup[-1] - \",tup[-1])"
   ]
  },
  {
   "cell_type": "code",
   "execution_count": 26,
   "metadata": {
    "collapsed": false
   },
   "outputs": [
    {
     "name": "stdout",
     "output_type": "stream",
     "text": [
      "tup[:-2] :  ('bir', 'iki')\n",
      "tup[-0] :  bir\n"
     ]
    }
   ],
   "source": [
    "#tup[:-2] 0 dan -2 ye kadar 0 dahil -2 dahil değil.\n",
    "print(\"tup[:-2] : \",tup[:-2])\n",
    "\n",
    "print(\"tup[-0] : \", tup[-0])"
   ]
  },
  {
   "cell_type": "code",
   "execution_count": 29,
   "metadata": {
    "collapsed": false
   },
   "outputs": [
    {
     "name": "stdout",
     "output_type": "stream",
     "text": [
      "String max: d\n",
      "String min: A\n",
      "Sayı max: 5\n",
      "Sayı min: 1\n"
     ]
    },
    {
     "ename": "TypeError",
     "evalue": "'<' not supported between instances of 'int' and 'str'",
     "output_type": "error",
     "traceback": [
      "\u001b[0;31m---------------------------------------------------------------------------\u001b[0m",
      "\u001b[0;31mTypeError\u001b[0m                                 Traceback (most recent call last)",
      "\u001b[0;32m<ipython-input-29-7b77590db26b>\u001b[0m in \u001b[0;36m<module>\u001b[0;34m()\u001b[0m\n\u001b[1;32m      9\u001b[0m \u001b[1;33m\u001b[0m\u001b[0m\n\u001b[1;32m     10\u001b[0m \u001b[0mtup\u001b[0m \u001b[1;33m=\u001b[0m \u001b[1;33m(\u001b[0m\u001b[1;34m'ahmet'\u001b[0m\u001b[1;33m,\u001b[0m\u001b[1;34m'ahmeb'\u001b[0m\u001b[1;33m,\u001b[0m\u001b[1;34m\"ceren\"\u001b[0m\u001b[1;33m,\u001b[0m\u001b[1;34m\"deniz\"\u001b[0m\u001b[1;33m,\u001b[0m\u001b[1;36m99\u001b[0m\u001b[1;33m)\u001b[0m\u001b[1;33m\u001b[0m\u001b[0m\n\u001b[0;32m---> 11\u001b[0;31m \u001b[0mprint\u001b[0m\u001b[1;33m(\u001b[0m\u001b[1;34m\"asd:\"\u001b[0m\u001b[1;33m,\u001b[0m\u001b[0mmin\u001b[0m\u001b[1;33m(\u001b[0m\u001b[0mtup\u001b[0m\u001b[1;33m)\u001b[0m\u001b[1;33m)\u001b[0m\u001b[1;33m\u001b[0m\u001b[0m\n\u001b[0m",
      "\u001b[0;31mTypeError\u001b[0m: '<' not supported between instances of 'int' and 'str'"
     ]
    }
   ],
   "source": [
    "#max(tuplu)\n",
    "tup = ('a', 'b', 'c','d','A');\n",
    "print(\"String max:\",max(tup))\n",
    "print(\"String min:\",min(tup))\n",
    "\n",
    "tup = (1,2,3,4,5);\n",
    "print(\"Sayı max:\",max(tup))\n",
    "print(\"Sayı min:\",min(tup))\n",
    "\n",
    "#min ve max fonksiyonları aynı türde ifadeleri karşılaştırabilir. String ve int değerleri birbirleriyle karşılaştıramaz.\n",
    "tup = ('ahmet','ahmeb',\"ceren\",\"deniz\",99)\n",
    "print(\"asd:\",min(tup))"
   ]
  },
  {
   "cell_type": "code",
   "execution_count": 33,
   "metadata": {
    "collapsed": false
   },
   "outputs": [
    {
     "name": "stdout",
     "output_type": "stream",
     "text": [
      "tuple :  (123, 'abc', 567)\n"
     ]
    },
    {
     "ename": "TypeError",
     "evalue": "'tuple' object doesn't support item deletion",
     "output_type": "error",
     "traceback": [
      "\u001b[0;31m---------------------------------------------------------------------------\u001b[0m",
      "\u001b[0;31mTypeError\u001b[0m                                 Traceback (most recent call last)",
      "\u001b[0;32m<ipython-input-33-6e557572b2bc>\u001b[0m in \u001b[0;36m<module>\u001b[0;34m()\u001b[0m\n\u001b[1;32m      8\u001b[0m \u001b[0mprint\u001b[0m \u001b[1;33m(\u001b[0m\u001b[1;34m\"tuple : \"\u001b[0m\u001b[1;33m,\u001b[0m \u001b[0mtup\u001b[0m\u001b[1;33m)\u001b[0m\u001b[1;33m\u001b[0m\u001b[0m\n\u001b[1;32m      9\u001b[0m \u001b[1;33m\u001b[0m\u001b[0m\n\u001b[0;32m---> 10\u001b[0;31m \u001b[1;32mdel\u001b[0m \u001b[0mtup\u001b[0m\u001b[1;33m[\u001b[0m\u001b[1;36m2\u001b[0m\u001b[1;33m]\u001b[0m\u001b[1;33m\u001b[0m\u001b[0m\n\u001b[0m",
      "\u001b[0;31mTypeError\u001b[0m: 'tuple' object doesn't support item deletion"
     ]
    }
   ],
   "source": [
    "#tuple(list)\n",
    "#Buda içine aldığı list i tuple çevirir.\n",
    "\n",
    "list = [123, 'abc', 'def', 567]\n",
    "del list[2]\n",
    "tup = tuple(list)\n",
    "\n",
    "print (\"tuple : \", tup)\n",
    "\n",
    "del tup[2]"
   ]
  },
  {
   "cell_type": "code",
   "execution_count": null,
   "metadata": {
    "collapsed": true
   },
   "outputs": [],
   "source": []
  }
 ],
 "metadata": {
  "kernelspec": {
   "display_name": "Python 3",
   "language": "python",
   "name": "python3"
  },
  "language_info": {
   "codemirror_mode": {
    "name": "ipython",
    "version": 3
   },
   "file_extension": ".py",
   "mimetype": "text/x-python",
   "name": "python",
   "nbconvert_exporter": "python",
   "pygments_lexer": "ipython3",
   "version": "3.6.0"
  }
 },
 "nbformat": 4,
 "nbformat_minor": 2
}

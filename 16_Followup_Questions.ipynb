{
 "cells": [
  {
   "cell_type": "raw",
   "metadata": {},
   "source": [
    "1. Write a function named \"adder\" to accept and sum/concatenate an arbitrary number of keyword arguments"
   ]
  },
  {
   "cell_type": "raw",
   "metadata": {},
   "source": [
    "2. Write a function called addDict(dict1, dict2) that computes the union of two dictionaries. It should return a new dictionary containing all the items. If the same key appears in both arguments, feel free to pick a value from either. What happens if you pass lists instead of dictionaries? How could you generalize your function to handle this case,too? (Hint: see the type built-in function used earlier.) Does the order of the arguments passed in matter?"
   ]
  },
  {
   "cell_type": "raw",
   "metadata": {},
   "source": [
    "3. Iterations and comprehensions. Write code to build a new list containing the square\n",
    "roots of all the numbers in this list: [2, 4, 9, 16, 25]. Code this as a :\n",
    "* for loop first,\n",
    "* then as a map call,\n",
    "* then as a list comprehension, \n",
    "* and finally as a generator expression. \n",
    "\n",
    "Use the sqrt function in the built-in math module to do the calculation (i.e.,\n",
    "import math and say math.sqrt(x) ). \n",
    "\n",
    "Of the four, which approach do you like best?"
   ]
  },
  {
   "cell_type": "raw",
   "metadata": {},
   "source": [
    "4. Recursive functions. Write a simple recursion function named countdown that prints\n",
    "numbers as it counts down to zero. For example, a call countdown(5) will print: 5\n",
    "4 3 2 1 stop . There’s no obvious reason to code this with an explicit stack or\n",
    "queue, but what about a nonfunction approach? Would a generator make sense\n",
    "here?"
   ]
  },
  {
   "cell_type": "raw",
   "metadata": {},
   "source": [
    "5. Computing factorials. N! , computed as N*(N-1)*(N-2)*...1 . \n",
    "For instance, 6! is 6*5*4*3*2*1 , or 720. \n",
    "\n",
    "Code and time four functions that, for a call fact(N), each return N!.\n",
    "Code these four functions:\n",
    "(1) as a recursive countdown\n",
    "(2) using the functional reduce call \n",
    "(3) with a simple iterative counter loop\n",
    "(4) using the math.factorial library tool. \n",
    "\n",
    "Use timeit module to time each of your functions. \n",
    "What conclusions can you draw from your results?"
   ]
  }
 ],
 "metadata": {
  "kernelspec": {
   "display_name": "Python 3",
   "language": "python",
   "name": "python3"
  },
  "language_info": {
   "codemirror_mode": {
    "name": "ipython",
    "version": 3
   },
   "file_extension": ".py",
   "mimetype": "text/x-python",
   "name": "python",
   "nbconvert_exporter": "python",
   "pygments_lexer": "ipython3",
   "version": "3.6.0"
  }
 },
 "nbformat": 4,
 "nbformat_minor": 2
}
